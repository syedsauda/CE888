{
  "nbformat": 4,
  "nbformat_minor": 0,
  "metadata": {
    "colab": {
      "name": "bank_classification.ipynb",
      "provenance": [],
      "authorship_tag": "ABX9TyPgDGjzGSAM9sSPqt8TEAbv",
      "include_colab_link": true
    },
    "kernelspec": {
      "name": "python3",
      "display_name": "Python 3"
    }
  },
  "cells": [
    {
      "cell_type": "markdown",
      "metadata": {
        "id": "view-in-github",
        "colab_type": "text"
      },
      "source": [
        "<a href=\"https://colab.research.google.com/github/syedsauda/CE888/blob/master/bank_classification.ipynb\" target=\"_parent\"><img src=\"https://colab.research.google.com/assets/colab-badge.svg\" alt=\"Open In Colab\"/></a>"
      ]
    },
    {
      "cell_type": "markdown",
      "metadata": {
        "id": "ymCpTOe963Dd",
        "colab_type": "text"
      },
      "source": [
        "#Bank Classification\n",
        "Import libraries"
      ]
    },
    {
      "cell_type": "code",
      "metadata": {
        "id": "vuc1Qw2A6vV6",
        "colab_type": "code",
        "colab": {}
      },
      "source": [
        "%matplotlib inline\n",
        "import matplotlib\n",
        "import numpy as np\n",
        "import matplotlib.pyplot as plt\n",
        "import pandas as pd\n",
        "import seaborn as sns\n",
        "import itertools\n",
        "\n",
        "from sklearn.tree import DecisionTreeRegressor\n",
        "from sklearn.ensemble import RandomForestClassifier, ExtraTreesClassifier\n",
        "from sklearn.model_selection import cross_val_score\n",
        "from sklearn.metrics import mean_squared_error as mse\n",
        "from sklearn.metrics import mean_absolute_error as mae\n",
        "from sklearn.metrics import accuracy_score as acc\n",
        "from sklearn.metrics import make_scorer, confusion_matrix\n",
        "from sklearn.dummy import DummyRegressor, DummyClassifier\n",
        "from sklearn.preprocessing import LabelEncoder"
      ],
      "execution_count": 0,
      "outputs": []
    },
    {
      "cell_type": "markdown",
      "metadata": {
        "id": "6l0fsr8h7LSn",
        "colab_type": "text"
      },
      "source": [
        "Load in data"
      ]
    },
    {
      "cell_type": "code",
      "metadata": {
        "id": "JIOou3eL7OEG",
        "colab_type": "code",
        "outputId": "790fe4c7-3bbe-408e-a318-56a3712de653",
        "colab": {
          "base_uri": "https://localhost:8080/",
          "height": 391
        }
      },
      "source": [
        "df = pd.read_csv(\"https://raw.githubusercontent.com/albanda/CE888/master/lab4/bank-additional-full.csv\", delimiter = \";\")\n",
        "print(df.dtypes)\n",
        "#Convert non numeric types to numeric\n",
        "df[[\"job\"]] = df[[\"job\"]].apply(LabelEncoder().fit_transform)\n",
        "df[[\"marital\"]] = df[[\"marital\"]].apply(LabelEncoder().fit_transform)\n",
        "df[[\"education\"]] = df[[\"education\"]].apply(LabelEncoder().fit_transform)\n",
        "df[[\"default\"]] = df[[\"default\"]].apply(LabelEncoder().fit_transform)\n",
        "df[[\"housing\"]] = df[[\"housing\"]].apply(LabelEncoder().fit_transform)\n",
        "df[[\"loan\"]] = df[[\"loan\"]].apply(LabelEncoder().fit_transform)\n",
        "df[[\"contact\"]] = df[[\"contact\"]].apply(LabelEncoder().fit_transform)\n",
        "df[[\"month\"]] = df[[\"month\"]].apply(LabelEncoder().fit_transform)\n",
        "df[[\"day_of_week\"]] = df[[\"day_of_week\"]].apply(LabelEncoder().fit_transform)\n",
        "df[[\"poutcome\"]] = df[[\"poutcome\"]].apply(LabelEncoder().fit_transform)\n",
        "\n",
        "#print(df.dtypes)\n",
        "\n"
      ],
      "execution_count": 0,
      "outputs": [
        {
          "output_type": "stream",
          "text": [
            "age                 int64\n",
            "job                object\n",
            "marital            object\n",
            "education          object\n",
            "default            object\n",
            "housing            object\n",
            "loan               object\n",
            "contact            object\n",
            "month              object\n",
            "day_of_week        object\n",
            "duration            int64\n",
            "campaign            int64\n",
            "pdays               int64\n",
            "previous            int64\n",
            "poutcome           object\n",
            "emp.var.rate      float64\n",
            "cons.price.idx    float64\n",
            "cons.conf.idx     float64\n",
            "euribor3m         float64\n",
            "nr.employed       float64\n",
            "y                  object\n",
            "dtype: object\n"
          ],
          "name": "stdout"
        }
      ]
    },
    {
      "cell_type": "markdown",
      "metadata": {
        "id": "G5AMrKwM8Wf9",
        "colab_type": "text"
      },
      "source": [
        "Using a classifier"
      ]
    },
    {
      "cell_type": "code",
      "metadata": {
        "id": "gVu7fjiz_v2s",
        "colab_type": "code",
        "outputId": "86de419e-8c77-48b7-fac6-5189b4be5f8a",
        "colab": {
          "base_uri": "https://localhost:8080/",
          "height": 255
        }
      },
      "source": [
        "features = [\"age\",\"job\",\"marital\",\"education\",\"default\",\"housing\",\n",
        "            \"loan\",\"contact\",\"month\",\"day_of_week\",\"duration\",\n",
        "            \"campaign\",\"pdays\",\"previous\",\"poutcome\",\"emp.var.rate\",\n",
        "            \"cons.price.idx\",\"cons.conf.idx\",\"euribor3m\",\"nr.employed\"]\n",
        "\n",
        "outcomes_of_interest = [\"y\"]\n",
        "n_bins = 20\n",
        "\n",
        "X_df = df[features].copy()\n",
        "y_df = df[outcomes_of_interest].copy()\n",
        "\n",
        "y_df[outcomes_of_interest] = y_df[outcomes_of_interest].apply(LabelEncoder().fit_transform)\n",
        "\n",
        "print(y_df)\n",
        "\n",
        "X = X_df.values\n",
        "y = y_df.values.T[0]\n"
      ],
      "execution_count": 0,
      "outputs": [
        {
          "output_type": "stream",
          "text": [
            "       y\n",
            "0      0\n",
            "1      0\n",
            "2      0\n",
            "3      0\n",
            "4      0\n",
            "...   ..\n",
            "41183  1\n",
            "41184  0\n",
            "41185  0\n",
            "41186  1\n",
            "41187  0\n",
            "\n",
            "[41188 rows x 1 columns]\n"
          ],
          "name": "stdout"
        }
      ]
    },
    {
      "cell_type": "code",
      "metadata": {
        "id": "4BAhQjPu8ZqL",
        "colab_type": "code",
        "outputId": "8f91ad2b-da06-4338-b69c-e8cf0e3d110a",
        "colab": {
          "base_uri": "https://localhost:8080/",
          "height": 105
        }
      },
      "source": [
        "from sklearn.ensemble import RandomForestClassifier\n",
        "\n",
        "clf = RandomForestClassifier(n_estimators=1000, max_depth=4)\n",
        "dummy_clf = DummyClassifier()\n",
        "\n",
        "scores = cross_val_score(clf, X, y, cv=10,scoring=make_scorer(acc))\n",
        "dummy_scores = cross_val_score(dummy_clf, X, y, cv=10, scoring=make_scorer(acc))\n",
        "print(\"ACC: %0.2f +/- %0.2f\" % (scores.mean(), scores.std()))\n",
        "print(\"Dummy ACC: %0.2f +/- %0.2f\" % (dummy_scores.mean(), dummy_scores.std()))\n",
        "\n"
      ],
      "execution_count": 0,
      "outputs": [
        {
          "output_type": "stream",
          "text": [
            "ACC: 0.77 +/- 0.22\n",
            "Dummy ACC: 0.80 +/- 0.01\n"
          ],
          "name": "stdout"
        },
        {
          "output_type": "stream",
          "text": [
            "/usr/local/lib/python3.6/dist-packages/sklearn/dummy.py:132: FutureWarning: The default value of strategy will change from stratified to prior in 0.24.\n",
            "  \"stratified to prior in 0.24.\", FutureWarning)\n"
          ],
          "name": "stderr"
        }
      ]
    },
    {
      "cell_type": "code",
      "metadata": {
        "id": "Kq8TPO0VHcWY",
        "colab_type": "code",
        "outputId": "581870fd-f377-4b2b-d05b-a242f65a6e28",
        "colab": {
          "base_uri": "https://localhost:8080/",
          "height": 34
        }
      },
      "source": [
        "clf = RandomForestClassifier(n_estimators=1000, max_depth=4)\n",
        "clf.fit(X,y)\n",
        "\n",
        "print(acc(y,clf.predict(X)))"
      ],
      "execution_count": 0,
      "outputs": [
        {
          "output_type": "stream",
          "text": [
            "0.9046324172088958\n"
          ],
          "name": "stdout"
        }
      ]
    },
    {
      "cell_type": "code",
      "metadata": {
        "id": "v8pGmiv4HyvI",
        "colab_type": "code",
        "outputId": "27bf15a2-91ba-48f2-e809-a71e429d41fc",
        "colab": {
          "base_uri": "https://localhost:8080/",
          "height": 282
        }
      },
      "source": [
        "df = pd.read_csv(\"https://raw.githubusercontent.com/albanda/CE888/master/lab4/bank-additional-full.csv\", delimiter = \";\")\n",
        "df_dummies = pd.get_dummies(df)\n",
        "del df_dummies[\"y_no\"]\n",
        "del df_dummies[\"duration\"]\n",
        "\n",
        "y_df = df_dummies[[\"y_yes\"]].copy()\n",
        "y = y_df.values.T[0]\n",
        "del df_dummies[\"y_yes\"]\n",
        "print(y)\n",
        "sns_plot = sns.distplot(y, kde=False, rug=True)"
      ],
      "execution_count": 0,
      "outputs": [
        {
          "output_type": "stream",
          "text": [
            "[0 0 0 ... 0 1 0]\n"
          ],
          "name": "stdout"
        },
        {
          "output_type": "display_data",
          "data": {
            "image/png": "[encoded data removed]",
            "text/plain": [
              "<Figure size 432x288 with 1 Axes>"
            ]
          },
          "metadata": {
            "tags": []
          }
        }
      ]
    },
    {
      "cell_type": "code",
      "metadata": {
        "id": "66fjsLgZL5mD",
        "colab_type": "code",
        "outputId": "94eb239c-45a9-4b7c-c2fb-f0b37ae9f313",
        "colab": {
          "base_uri": "https://localhost:8080/",
          "height": 34
        }
      },
      "source": [
        "X_df = df_dummies[df_dummies.columns].copy()\n",
        "X = X_df.values\n",
        "\n",
        "clf = RandomForestClassifier(n_estimators=1000, max_depth=4)\n",
        "clf.fit(X,y)\n",
        "\n",
        "print(acc(y,clf.predict(X)))"
      ],
      "execution_count": 0,
      "outputs": [
        {
          "output_type": "stream",
          "text": [
            "0.8989511508206274\n"
          ],
          "name": "stdout"
        }
      ]
    },
    {
      "cell_type": "code",
      "metadata": {
        "id": "4f0vOJAvRje1",
        "colab_type": "code",
        "colab": {
          "base_uri": "https://localhost:8080/",
          "height": 85
        },
        "outputId": "cc4ea71b-2bb4-491d-af0c-401b6d5affa9"
      },
      "source": [
        "dummy_clf = DummyClassifier()\n",
        "\n",
        "scores = cross_val_score(clf, X, y, cv=10,scoring=make_scorer(acc))\n",
        "dummy_scores = cross_val_score(dummy_clf, X, y, cv=10, scoring=make_scorer(acc))\n",
        "print(\"ACC: %0.2f +/- %0.2f\" % (scores.mean(), scores.std()))\n",
        "print(\"Dummy ACC: %0.2f +/- %0.2f\" % (dummy_scores.mean(), dummy_scores.std()))"
      ],
      "execution_count": 101,
      "outputs": [
        {
          "output_type": "stream",
          "text": [
            "ACC: 0.78 +/- 0.22\n",
            "Dummy ACC: 0.80 +/- 0.00\n"
          ],
          "name": "stdout"
        },
        {
          "output_type": "stream",
          "text": [
            "/usr/local/lib/python3.6/dist-packages/sklearn/dummy.py:132: FutureWarning: The default value of strategy will change from stratified to prior in 0.24.\n",
            "  \"stratified to prior in 0.24.\", FutureWarning)\n"
          ],
          "name": "stderr"
        }
      ]
    },
    {
      "cell_type": "markdown",
      "metadata": {
        "id": "wjn4mtMKQieO",
        "colab_type": "text"
      },
      "source": [
        "Confusion Matrix"
      ]
    },
    {
      "cell_type": "code",
      "metadata": {
        "id": "lrLfmDgNRN_c",
        "colab_type": "code",
        "colab": {}
      },
      "source": [
        "def plot_confusion_matrix(cm, classes,\n",
        "                          normalize=False,\n",
        "                          title='Confusion matrix',\n",
        "                          cmap=plt.cm.Blues):\n",
        "    \"\"\"\n",
        "    This function prints and plots the confusion matrix.\n",
        "    Normalization can be applied by setting `normalize=True`.\n",
        "    \"\"\"\n",
        "    if normalize:\n",
        "        cm = cm.astype('float') / cm.sum(axis=1)[:, np.newaxis]\n",
        "        print(\"Normalized confusion matrix\")\n",
        "    else:\n",
        "        print('Confusion matrix, without normalization')\n",
        "    plt.imshow(cm, interpolation='nearest', cmap=cmap)\n",
        "    plt.title(title)\n",
        "    plt.colorbar()\n",
        "    tick_marks = np.arange(len(classes))\n",
        "    plt.xticks(tick_marks, classes, rotation=45)\n",
        "    plt.yticks(tick_marks, classes)\n",
        "    thresh = cm.max() / 2.\n",
        "    for i, j in itertools.product(range(cm.shape[0]), range(cm.shape[1])):\n",
        "        t = \"(%.2f)\"%(cm[i, j])\n",
        "    plt.tight_layout()\n",
        "    plt.ylabel('True label')\n",
        "    plt.xlabel('Predicted label')"
      ],
      "execution_count": 0,
      "outputs": []
    },
    {
      "cell_type": "code",
      "metadata": {
        "id": "XXoIXuDQQCeM",
        "colab_type": "code",
        "colab": {
          "base_uri": "https://localhost:8080/",
          "height": 328
        },
        "outputId": "76edaf6c-d7dd-405b-b408-32db31ad1e08"
      },
      "source": [
        "y_pred = clf.predict(X)\n",
        "cnf_matrix = confusion_matrix(y, y_pred)\n",
        "np.set_printoptions(precision=2)\n",
        "\n",
        "plt.figure()\n",
        "plot_confusion_matrix(cnf_matrix, classes=range(len(set(y))), normalize = True,\n",
        "                      title='Confusion matrix')"
      ],
      "execution_count": 103,
      "outputs": [
        {
          "output_type": "stream",
          "text": [
            "Normalized confusion matrix\n"
          ],
          "name": "stdout"
        },
        {
          "output_type": "display_data",
          "data": {
            "image/png": "[encoded data removed]",
            "text/plain": [
              "<Figure size 432x288 with 2 Axes>"
            ]
          },
          "metadata": {
            "tags": []
          }
        }
      ]
    }
  ]
}