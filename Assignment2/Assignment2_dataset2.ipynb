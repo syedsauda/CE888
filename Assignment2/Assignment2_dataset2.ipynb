{
  "nbformat": 4,
  "nbformat_minor": 0,
  "metadata": {
    "colab": {
      "name": "Assignment2_dataset2.ipynb",
      "provenance": [],
      "collapsed_sections": [],
      "authorship_tag": "ABX9TyPe12W8Z59DTxpI5nY0s3N9",
      "include_colab_link": true
    },
    "kernelspec": {
      "name": "python3",
      "display_name": "Python 3"
    },
    "accelerator": "GPU"
  },
  "cells": [
    {
      "cell_type": "markdown",
      "metadata": {
        "id": "view-in-github",
        "colab_type": "text"
      },
      "source": [
        "<a href=\"https://colab.research.google.com/github/syedsauda/CE888/blob/master/Assignment2/Assignment2_dataset2.ipynb\" target=\"_parent\"><img src=\"https://colab.research.google.com/assets/colab-badge.svg\" alt=\"Open In Colab\"/></a>"
      ]
    },
    {
      "cell_type": "markdown",
      "metadata": {
        "id": "Nl3lyzOppZT_",
        "colab_type": "text"
      },
      "source": [
        "#Download and install scikit plot"
      ]
    },
    {
      "cell_type": "code",
      "metadata": {
        "id": "BxWm08L5msX3",
        "colab_type": "code",
        "outputId": "57fec234-fbd6-40b9-9a7d-8a3068c2b817",
        "colab": {
          "base_uri": "https://localhost:8080/",
          "height": 292
        }
      },
      "source": [
        "pip install scikit-plot"
      ],
      "execution_count": 0,
      "outputs": [
        {
          "output_type": "stream",
          "text": [
            "Collecting scikit-plot\n",
            "  Downloading https://files.pythonhosted.org/packages/7c/47/32520e259340c140a4ad27c1b97050dd3254fdc517b1d59974d47037510e/scikit_plot-0.3.7-py3-none-any.whl\n",
            "Requirement already satisfied: scikit-learn>=0.18 in /usr/local/lib/python3.6/dist-packages (from scikit-plot) (0.22.2.post1)\n",
            "Requirement already satisfied: scipy>=0.9 in /usr/local/lib/python3.6/dist-packages (from scikit-plot) (1.4.1)\n",
            "Requirement already satisfied: joblib>=0.10 in /usr/local/lib/python3.6/dist-packages (from scikit-plot) (0.14.1)\n",
            "Requirement already satisfied: matplotlib>=1.4.0 in /usr/local/lib/python3.6/dist-packages (from scikit-plot) (3.2.1)\n",
            "Requirement already satisfied: numpy>=1.11.0 in /usr/local/lib/python3.6/dist-packages (from scikit-learn>=0.18->scikit-plot) (1.18.2)\n",
            "Requirement already satisfied: pyparsing!=2.0.4,!=2.1.2,!=2.1.6,>=2.0.1 in /usr/local/lib/python3.6/dist-packages (from matplotlib>=1.4.0->scikit-plot) (2.4.6)\n",
            "Requirement already satisfied: python-dateutil>=2.1 in /usr/local/lib/python3.6/dist-packages (from matplotlib>=1.4.0->scikit-plot) (2.8.1)\n",
            "Requirement already satisfied: cycler>=0.10 in /usr/local/lib/python3.6/dist-packages (from matplotlib>=1.4.0->scikit-plot) (0.10.0)\n",
            "Requirement already satisfied: kiwisolver>=1.0.1 in /usr/local/lib/python3.6/dist-packages (from matplotlib>=1.4.0->scikit-plot) (1.1.0)\n",
            "Requirement already satisfied: six>=1.5 in /usr/local/lib/python3.6/dist-packages (from python-dateutil>=2.1->matplotlib>=1.4.0->scikit-plot) (1.12.0)\n",
            "Requirement already satisfied: setuptools in /usr/local/lib/python3.6/dist-packages (from kiwisolver>=1.0.1->matplotlib>=1.4.0->scikit-plot) (46.0.0)\n",
            "Installing collected packages: scikit-plot\n",
            "Successfully installed scikit-plot-0.3.7\n"
          ],
          "name": "stdout"
        }
      ]
    },
    {
      "cell_type": "markdown",
      "metadata": {
        "id": "uDue1JarpeoW",
        "colab_type": "text"
      },
      "source": [
        "#Importing Libraries and Functions"
      ]
    },
    {
      "cell_type": "code",
      "metadata": {
        "id": "is6iCTfBmzCY",
        "colab_type": "code",
        "outputId": "f28bf43f-e729-4618-d221-28bc353239d2",
        "colab": {
          "base_uri": "https://localhost:8080/",
          "height": 71
        }
      },
      "source": [
        "import os\n",
        "import numpy as np\n",
        "import pandas as pd\n",
        "import seaborn as sns\n",
        "import scikitplot as skplt\n",
        "import matplotlib.pyplot as plt\n",
        "\n",
        "from sklearn.model_selection import train_test_split\n",
        "from sklearn.metrics import roc_auc_score\n",
        "from sklearn.ensemble import RandomForestClassifier\n",
        "from sklearn.preprocessing import LabelEncoder\n",
        "from sklearn.preprocessing import MinMaxScaler \n",
        "from sklearn.model_selection import cross_val_score\n",
        "\n",
        "from zipfile import ZipFile"
      ],
      "execution_count": 0,
      "outputs": [
        {
          "output_type": "stream",
          "text": [
            "/usr/local/lib/python3.6/dist-packages/statsmodels/tools/_testing.py:19: FutureWarning: pandas.util.testing is deprecated. Use the functions in the public API at pandas.testing instead.\n",
            "  import pandas.util.testing as tm\n"
          ],
          "name": "stderr"
        }
      ]
    },
    {
      "cell_type": "markdown",
      "metadata": {
        "id": "vJ3iZNV0pJnW",
        "colab_type": "text"
      },
      "source": [
        "#Downloading dataset and removing unused files"
      ]
    },
    {
      "cell_type": "code",
      "metadata": {
        "id": "0bsSKvqnnKpb",
        "colab_type": "code",
        "colab": {}
      },
      "source": [
        "#Load train.csv for heart disease using github"
      ],
      "execution_count": 0,
      "outputs": []
    },
    {
      "cell_type": "markdown",
      "metadata": {
        "id": "7hT34PlCpsyW",
        "colab_type": "text"
      },
      "source": [
        "#Load dataset into pandas dataframe"
      ]
    },
    {
      "cell_type": "code",
      "metadata": {
        "id": "TWht_2jSpxh_",
        "colab_type": "code",
        "outputId": "4388f468-a8cf-430d-e09d-7144f1c40956",
        "colab": {
          "base_uri": "https://localhost:8080/",
          "height": 255
        }
      },
      "source": [
        "orig_df_train = pd.read_csv('train.csv', header=0, sep=',', quotechar='\"')\n",
        "#orig_df_test = pd.read_csv('test.csv', header=0, sep=',', quotechar='\"')\n",
        "\n",
        "print(orig_df_train)\n",
        "#print(orig_df_test.head())"
      ],
      "execution_count": 0,
      "outputs": [
        {
          "output_type": "stream",
          "text": [
            "     age  sex  cp  trestbps  chol  fbs  ...  exang  oldpeak  slope  ca  thal  target\n",
            "0     63    1   3       145   233    1  ...      0      2.3      0   0     1       1\n",
            "1     37    1   2       130   250    0  ...      0      3.5      0   0     2       1\n",
            "2     41    0   1       130   204    0  ...      0      1.4      2   0     2       1\n",
            "3     56    1   1       120   236    0  ...      0      0.8      2   0     2       1\n",
            "4     57    0   0       120   354    0  ...      1      0.6      2   0     2       1\n",
            "..   ...  ...  ..       ...   ...  ...  ...    ...      ...    ...  ..   ...     ...\n",
            "298   57    0   0       140   241    0  ...      1      0.2      1   0     3       0\n",
            "299   45    1   3       110   264    0  ...      0      1.2      1   0     3       0\n",
            "300   68    1   0       144   193    1  ...      0      3.4      1   2     3       0\n",
            "301   57    1   0       130   131    0  ...      1      1.2      1   1     3       0\n",
            "302   57    0   1       130   236    0  ...      0      0.0      1   1     2       0\n",
            "\n",
            "[303 rows x 14 columns]\n"
          ],
          "name": "stdout"
        }
      ]
    },
    {
      "cell_type": "code",
      "metadata": {
        "id": "BwrNZsD7MoWp",
        "colab_type": "code",
        "outputId": "77a3a044-a523-475e-b84c-7dc12b1a85c0",
        "colab": {
          "base_uri": "https://localhost:8080/",
          "height": 51
        }
      },
      "source": [
        "age = 50\n",
        "print(orig_df_train.where(orig_df_train[\"sex\"]==1).dropna().shape)\n",
        "print(orig_df_train.where(orig_df_train[\"sex\"]==0).dropna().shape)"
      ],
      "execution_count": 0,
      "outputs": [
        {
          "output_type": "stream",
          "text": [
            "(207, 14)\n",
            "(96, 14)\n"
          ],
          "name": "stdout"
        }
      ]
    },
    {
      "cell_type": "markdown",
      "metadata": {
        "id": "ZayZsFJZIiPY",
        "colab_type": "text"
      },
      "source": [
        "Identifying the target variable and the ID varaiable"
      ]
    },
    {
      "cell_type": "code",
      "metadata": {
        "id": "1vhjoIl8Ih2w",
        "colab_type": "code",
        "colab": {}
      },
      "source": [
        "target_var = \"target\""
      ],
      "execution_count": 0,
      "outputs": []
    },
    {
      "cell_type": "markdown",
      "metadata": {
        "id": "g9WPtCV5qRKw",
        "colab_type": "text"
      },
      "source": [
        "#Detecting Covariate shift in data"
      ]
    },
    {
      "cell_type": "markdown",
      "metadata": {
        "id": "XmlyVVTCqYh5",
        "colab_type": "text"
      },
      "source": [
        "Removing un-important columns (id) and output/target column(price_doc)"
      ]
    },
    {
      "cell_type": "code",
      "metadata": {
        "id": "UZXDkTtHqXIJ",
        "colab_type": "code",
        "colab": {}
      },
      "source": [
        "df_train = orig_df_train.where(orig_df_train[\"sex\"]==1).dropna().drop(columns=[target_var])\n",
        "df_test = orig_df_train.where(orig_df_train[\"sex\"]==0).dropna().drop(columns=[target_var])"
      ],
      "execution_count": 0,
      "outputs": []
    },
    {
      "cell_type": "code",
      "metadata": {
        "id": "lZ4w6zpt98_6",
        "colab_type": "code",
        "outputId": "f175b4ea-f5e8-4236-85a4-794e9dbf82b4",
        "colab": {
          "base_uri": "https://localhost:8080/",
          "height": 51
        }
      },
      "source": [
        "print(df_train.shape)\n",
        "print(df_test.shape)"
      ],
      "execution_count": 0,
      "outputs": [
        {
          "output_type": "stream",
          "text": [
            "(207, 13)\n",
            "(96, 13)\n"
          ],
          "name": "stdout"
        }
      ]
    },
    {
      "cell_type": "markdown",
      "metadata": {
        "id": "r_y9dZsAqxsU",
        "colab_type": "text"
      },
      "source": [
        "Adding is_test column"
      ]
    },
    {
      "cell_type": "code",
      "metadata": {
        "id": "b7ByPjY5qxDD",
        "colab_type": "code",
        "colab": {}
      },
      "source": [
        "df_train['is_test'] = 0\n",
        "df_test['is_test'] = 1"
      ],
      "execution_count": 0,
      "outputs": []
    },
    {
      "cell_type": "markdown",
      "metadata": {
        "id": "46v6BEyk1XqU",
        "colab_type": "text"
      },
      "source": [
        "combine dataset"
      ]
    },
    {
      "cell_type": "code",
      "metadata": {
        "id": "vvQZ-rKxOf70",
        "colab_type": "code",
        "outputId": "a4c04fe4-4cd8-444a-b590-00816f73333b",
        "colab": {
          "base_uri": "https://localhost:8080/",
          "height": 34
        }
      },
      "source": [
        "df = pd.concat([df_train, df_test], axis = 0)\n",
        "df.shape"
      ],
      "execution_count": 0,
      "outputs": [
        {
          "output_type": "execute_result",
          "data": {
            "text/plain": [
              "(303, 14)"
            ]
          },
          "metadata": {
            "tags": []
          },
          "execution_count": 12
        }
      ]
    },
    {
      "cell_type": "markdown",
      "metadata": {
        "id": "rDDzGsnF1Pnz",
        "colab_type": "text"
      },
      "source": [
        "Function to split and clasiify and show roc and auc score"
      ]
    },
    {
      "cell_type": "code",
      "metadata": {
        "id": "68bHuTHIs8q_",
        "colab_type": "code",
        "colab": {}
      },
      "source": [
        "def split_and_classify(df):\n",
        "  #Removing is_test column\n",
        "  X = df.drop(columns=['is_test']) \n",
        "  y = df['is_test']\n",
        "\n",
        "  X_train, X_test, y_train, y_test = train_test_split(X, y, test_size=0.3, random_state=42, shuffle=True) #Randomising nad splitting before classification\n",
        "  \n",
        "  rfc = RandomForestClassifier()\n",
        "  rfc.fit(X_train, y_train)\n",
        "  y_test_score = rfc.predict_proba(X_test)\n",
        "  skplt.metrics.plot_roc_curve(y_test, y_test_score)\n",
        "  plt.show()\n",
        "  print('AUC score: ', round(roc_auc_score(y_true=y_test, y_score=y_test_score[:,1]), 4))\n",
        "  return X,y;"
      ],
      "execution_count": 0,
      "outputs": []
    },
    {
      "cell_type": "code",
      "metadata": {
        "id": "hBwM8Bc_1PLt",
        "colab_type": "code",
        "outputId": "c362d3de-7f78-43d2-8bd6-26c1b8a665d4",
        "colab": {
          "base_uri": "https://localhost:8080/",
          "height": 366
        }
      },
      "source": [
        "X,y = split_and_classify(df)"
      ],
      "execution_count": 0,
      "outputs": [
        {
          "output_type": "stream",
          "text": [
            "/usr/local/lib/python3.6/dist-packages/sklearn/utils/deprecation.py:87: FutureWarning: Function plot_roc_curve is deprecated; This will be removed in v0.5.0. Please use scikitplot.metrics.plot_roc instead.\n",
            "  warnings.warn(msg, category=FutureWarning)\n"
          ],
          "name": "stderr"
        },
        {
          "output_type": "display_data",
          "data": {
            "image/png": "[encoded data removed]",
            "text/plain": [
              "<Figure size 432x288 with 1 Axes>"
            ]
          },
          "metadata": {
            "tags": []
          }
        },
        {
          "output_type": "stream",
          "text": [
            "AUC score:  1.0\n"
          ],
          "name": "stdout"
        }
      ]
    },
    {
      "cell_type": "markdown",
      "metadata": {
        "id": "jIpewyQ5uY6x",
        "colab_type": "text"
      },
      "source": [
        "Finding features causing covariate shift"
      ]
    },
    {
      "cell_type": "code",
      "metadata": {
        "id": "UaYX3e1Oza08",
        "colab_type": "code",
        "outputId": "e6bebb98-8c7f-434c-f6fc-52004021fd94",
        "colab": {
          "base_uri": "https://localhost:8080/",
          "height": 34
        }
      },
      "source": [
        "drop_list = []\n",
        "model = RandomForestClassifier(n_estimators = 50, max_depth = 5,min_samples_leaf = 5)\n",
        "for i in X.columns:\n",
        "    score = cross_val_score(model,pd.DataFrame(X[i]),y,cv=2,scoring='roc_auc')\n",
        "    if (np.mean(score) > 0.8):\n",
        "        drop_list.append(i)\n",
        "        print(i,np.mean(score))"
      ],
      "execution_count": 0,
      "outputs": [
        {
          "output_type": "stream",
          "text": [
            "sex 1.0\n"
          ],
          "name": "stdout"
        }
      ]
    },
    {
      "cell_type": "code",
      "metadata": {
        "id": "DxRK-P4yzgZD",
        "colab_type": "code",
        "outputId": "14761e80-a13f-4ccd-9ef6-9727e2e7d0df",
        "colab": {
          "base_uri": "https://localhost:8080/",
          "height": 34
        }
      },
      "source": [
        "print(drop_list)"
      ],
      "execution_count": 0,
      "outputs": [
        {
          "output_type": "stream",
          "text": [
            "['sex']\n"
          ],
          "name": "stdout"
        }
      ]
    },
    {
      "cell_type": "markdown",
      "metadata": {
        "id": "gSGePn3p1pn9",
        "colab_type": "text"
      },
      "source": [
        "Removing features that cause shift"
      ]
    },
    {
      "cell_type": "code",
      "metadata": {
        "id": "ffsuE0xW1vBq",
        "colab_type": "code",
        "outputId": "35d554a6-bae4-4318-8d41-303a7c63bdb2",
        "colab": {
          "base_uri": "https://localhost:8080/",
          "height": 34
        }
      },
      "source": [
        "df.drop(columns=drop_list,inplace=True)\n",
        "df.shape"
      ],
      "execution_count": 0,
      "outputs": [
        {
          "output_type": "execute_result",
          "data": {
            "text/plain": [
              "(303, 13)"
            ]
          },
          "metadata": {
            "tags": []
          },
          "execution_count": 17
        }
      ]
    },
    {
      "cell_type": "code",
      "metadata": {
        "id": "5B0B_AW57gXL",
        "colab_type": "code",
        "colab": {}
      },
      "source": [
        "def histo(df_test, df_train, feature):\n",
        "  print(\"Histogram of dataset on '\",feature,\"'\")\n",
        "  histo = sns.distplot(df_test[[feature]].values.T[0], color=\"blue\", kde=False, label=\"Testing data\")\n",
        "  histo = sns.distplot(df_train[[feature]].values.T[0], color=\"red\", kde=False, label=\"Training data\")\n",
        "  legend = histo.legend()"
      ],
      "execution_count": 0,
      "outputs": []
    },
    {
      "cell_type": "code",
      "metadata": {
        "id": "OzUrpq9V-Zm_",
        "colab_type": "code",
        "colab": {}
      },
      "source": [
        "normalized_test=(df_test-orig_df_train.min())/(orig_df_train.max()-orig_df_train.min())\n",
        "normalized_train=(df_train-orig_df_train.min())/(orig_df_train.max()-orig_df_train.min())"
      ],
      "execution_count": 0,
      "outputs": []
    },
    {
      "cell_type": "code",
      "metadata": {
        "id": "FcZ4iWXWCHn5",
        "colab_type": "code",
        "outputId": "6259b49f-1338-4387-9b35-3ba503281891",
        "colab": {
          "base_uri": "https://localhost:8080/",
          "height": 282
        }
      },
      "source": [
        "histo(df_test, df_train,drop_list[0])"
      ],
      "execution_count": 0,
      "outputs": [
        {
          "output_type": "stream",
          "text": [
            "Histogram of dataset on ' sex '\n"
          ],
          "name": "stdout"
        },
        {
          "output_type": "display_data",
          "data": {
            "image/png": "[encoded data removed]",
            "text/plain": [
              "<Figure size 432x288 with 1 Axes>"
            ]
          },
          "metadata": {
            "tags": []
          }
        }
      ]
    },
    {
      "cell_type": "markdown",
      "metadata": {
        "id": "v0l95OLb167e",
        "colab_type": "text"
      },
      "source": [
        "splitting and classifying with removed features"
      ]
    },
    {
      "cell_type": "code",
      "metadata": {
        "id": "m9nBigXy1_V3",
        "colab_type": "code",
        "outputId": "5c78c6b2-9a59-4d9a-ce2a-cdae96443b8d",
        "colab": {
          "base_uri": "https://localhost:8080/",
          "height": 366
        }
      },
      "source": [
        "unused,unused2 = split_and_classify(df)"
      ],
      "execution_count": 0,
      "outputs": [
        {
          "output_type": "stream",
          "text": [
            "/usr/local/lib/python3.6/dist-packages/sklearn/utils/deprecation.py:87: FutureWarning: Function plot_roc_curve is deprecated; This will be removed in v0.5.0. Please use scikitplot.metrics.plot_roc instead.\n",
            "  warnings.warn(msg, category=FutureWarning)\n"
          ],
          "name": "stderr"
        },
        {
          "output_type": "display_data",
          "data": {
            "image/png": "[encoded data removed]",
            "text/plain": [
              "<Figure size 432x288 with 1 Axes>"
            ]
          },
          "metadata": {
            "tags": []
          }
        },
        {
          "output_type": "stream",
          "text": [
            "AUC score:  0.724\n"
          ],
          "name": "stdout"
        }
      ]
    }
  ]
}