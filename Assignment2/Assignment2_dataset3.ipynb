{
  "nbformat": 4,
  "nbformat_minor": 0,
  "metadata": {
    "colab": {
      "name": "Assignment2_dataset3.ipynb",
      "provenance": [],
      "collapsed_sections": [],
      "authorship_tag": "ABX9TyPRJLUay/SrgiHw0Ud8iwFm",
      "include_colab_link": true
    },
    "kernelspec": {
      "name": "python3",
      "display_name": "Python 3"
    },
    "accelerator": "GPU"
  },
  "cells": [
    {
      "cell_type": "markdown",
      "metadata": {
        "id": "view-in-github",
        "colab_type": "text"
      },
      "source": [
        "<a href=\"https://colab.research.google.com/github/syedsauda/CE888/blob/master/Assignment2/Assignment2_dataset3.ipynb\" target=\"_parent\"><img src=\"https://colab.research.google.com/assets/colab-badge.svg\" alt=\"Open In Colab\"/></a>"
      ]
    },
    {
      "cell_type": "markdown",
      "metadata": {
        "id": "Nl3lyzOppZT_",
        "colab_type": "text"
      },
      "source": [
        "#Download and install scikit plot"
      ]
    },
    {
      "cell_type": "code",
      "metadata": {
        "id": "BxWm08L5msX3",
        "colab_type": "code",
        "outputId": "9702871e-479a-4616-cc42-be8bbb404efb",
        "colab": {
          "base_uri": "https://localhost:8080/",
          "height": 255
        }
      },
      "source": [
        "pip install scikit-plot"
      ],
      "execution_count": 1,
      "outputs": [
        {
          "output_type": "stream",
          "text": [
            "Collecting scikit-plot\n",
            "  Downloading https://files.pythonhosted.org/packages/7c/47/32520e259340c140a4ad27c1b97050dd3254fdc517b1d59974d47037510e/scikit_plot-0.3.7-py3-none-any.whl\n",
            "Requirement already satisfied: scipy>=0.9 in /usr/local/lib/python3.6/dist-packages (from scikit-plot) (1.4.1)\n",
            "Requirement already satisfied: matplotlib>=1.4.0 in /usr/local/lib/python3.6/dist-packages (from scikit-plot) (3.2.1)\n",
            "Requirement already satisfied: joblib>=0.10 in /usr/local/lib/python3.6/dist-packages (from scikit-plot) (0.14.1)\n",
            "Requirement already satisfied: scikit-learn>=0.18 in /usr/local/lib/python3.6/dist-packages (from scikit-plot) (0.22.2.post1)\n",
            "Requirement already satisfied: numpy>=1.13.3 in /usr/local/lib/python3.6/dist-packages (from scipy>=0.9->scikit-plot) (1.18.2)\n",
            "Requirement already satisfied: cycler>=0.10 in /usr/local/lib/python3.6/dist-packages (from matplotlib>=1.4.0->scikit-plot) (0.10.0)\n",
            "Requirement already satisfied: pyparsing!=2.0.4,!=2.1.2,!=2.1.6,>=2.0.1 in /usr/local/lib/python3.6/dist-packages (from matplotlib>=1.4.0->scikit-plot) (2.4.7)\n",
            "Requirement already satisfied: python-dateutil>=2.1 in /usr/local/lib/python3.6/dist-packages (from matplotlib>=1.4.0->scikit-plot) (2.8.1)\n",
            "Requirement already satisfied: kiwisolver>=1.0.1 in /usr/local/lib/python3.6/dist-packages (from matplotlib>=1.4.0->scikit-plot) (1.2.0)\n",
            "Requirement already satisfied: six in /usr/local/lib/python3.6/dist-packages (from cycler>=0.10->matplotlib>=1.4.0->scikit-plot) (1.12.0)\n",
            "Installing collected packages: scikit-plot\n",
            "Successfully installed scikit-plot-0.3.7\n"
          ],
          "name": "stdout"
        }
      ]
    },
    {
      "cell_type": "markdown",
      "metadata": {
        "id": "uDue1JarpeoW",
        "colab_type": "text"
      },
      "source": [
        "#Importing Libraries and Functions"
      ]
    },
    {
      "cell_type": "code",
      "metadata": {
        "id": "is6iCTfBmzCY",
        "colab_type": "code",
        "outputId": "1bf8afe2-eece-465d-ebb0-cb40518ecfdb",
        "colab": {
          "base_uri": "https://localhost:8080/",
          "height": 51
        }
      },
      "source": [
        "import os\n",
        "import numpy as np\n",
        "import pandas as pd\n",
        "import seaborn as sns\n",
        "import scikitplot as skplt\n",
        "import matplotlib.pyplot as plt\n",
        "\n",
        "from sklearn.model_selection import train_test_split\n",
        "from sklearn.metrics import roc_auc_score\n",
        "from sklearn.ensemble import RandomForestClassifier\n",
        "from sklearn.preprocessing import LabelEncoder\n",
        "from sklearn.preprocessing import MinMaxScaler \n",
        "from sklearn.model_selection import cross_val_score\n",
        "\n",
        "from zipfile import ZipFile"
      ],
      "execution_count": 2,
      "outputs": [
        {
          "output_type": "stream",
          "text": [
            "/usr/local/lib/python3.6/dist-packages/statsmodels/tools/_testing.py:19: FutureWarning: pandas.util.testing is deprecated. Use the functions in the public API at pandas.testing instead.\n",
            "  import pandas.util.testing as tm\n"
          ],
          "name": "stderr"
        }
      ]
    },
    {
      "cell_type": "markdown",
      "metadata": {
        "id": "70pV8w5xpUIG",
        "colab_type": "text"
      },
      "source": [
        "#Funtion to unzip file"
      ]
    },
    {
      "cell_type": "code",
      "metadata": {
        "id": "V_AHunLxnWPK",
        "colab_type": "code",
        "colab": {}
      },
      "source": [
        "def unzip(file_name):\n",
        "  with ZipFile(file_name, 'r') as zip:\n",
        "    zip.extractall()\n",
        "    print('extracted: ',file_name)"
      ],
      "execution_count": 0,
      "outputs": []
    },
    {
      "cell_type": "markdown",
      "metadata": {
        "id": "vJ3iZNV0pJnW",
        "colab_type": "text"
      },
      "source": [
        "#Downloading dataset and removing unused files"
      ]
    },
    {
      "cell_type": "code",
      "metadata": {
        "id": "0bsSKvqnnKpb",
        "colab_type": "code",
        "colab": {
          "base_uri": "https://localhost:8080/",
          "height": 204
        },
        "outputId": "059c5ad4-e899-4d99-f56f-84b2e09ce0e0"
      },
      "source": [
        "os.environ['KAGGLE_USERNAME'] = \"syedsaud\" # username from the json file\n",
        "os.environ['KAGGLE_KEY'] = \"7c3265f2a6cfd2e2354acf0a17b7a805\" # key from the json file\n",
        "\n",
        "!kaggle competitions download -c santander-customer-transaction-prediction #Download DATASET 1\n",
        "!rm sample_submission.csv.zip\n",
        "!rm test.csv.zip\n",
        "!ls"
      ],
      "execution_count": 4,
      "outputs": [
        {
          "output_type": "stream",
          "text": [
            "Warning: Looks like you're using an outdated API Version, please consider updating (server 1.5.6 / client 1.5.4)\n",
            "Downloading test.csv.zip to /content\n",
            " 89% 111M/125M [00:01<00:00, 52.3MB/s]\n",
            "100% 125M/125M [00:01<00:00, 65.9MB/s]\n",
            "Downloading sample_submission.csv.zip to /content\n",
            "  0% 0.00/462k [00:00<?, ?B/s]\n",
            "100% 462k/462k [00:00<00:00, 159MB/s]\n",
            "Downloading train.csv.zip to /content\n",
            " 95% 119M/125M [00:01<00:00, 62.0MB/s] \n",
            "100% 125M/125M [00:01<00:00, 67.2MB/s]\n",
            "sample_data  train.csv.zip\n"
          ],
          "name": "stdout"
        }
      ]
    },
    {
      "cell_type": "code",
      "metadata": {
        "id": "Xe_iFp7N7qa7",
        "colab_type": "code",
        "outputId": "d4e9ed37-380c-4c23-d0ae-1a82ad5635dc",
        "colab": {
          "base_uri": "https://localhost:8080/",
          "height": 34
        }
      },
      "source": [
        "unzip(\"/content/train.csv.zip\")"
      ],
      "execution_count": 5,
      "outputs": [
        {
          "output_type": "stream",
          "text": [
            "extracted:  /content/train.csv.zip\n"
          ],
          "name": "stdout"
        }
      ]
    },
    {
      "cell_type": "markdown",
      "metadata": {
        "id": "7hT34PlCpsyW",
        "colab_type": "text"
      },
      "source": [
        "#Load dataset into pandas dataframe"
      ]
    },
    {
      "cell_type": "code",
      "metadata": {
        "id": "TWht_2jSpxh_",
        "colab_type": "code",
        "outputId": "15f78096-7974-4f0e-fb3f-6b244382b9bc",
        "colab": {
          "base_uri": "https://localhost:8080/",
          "height": 255
        }
      },
      "source": [
        "orig_df_train = pd.read_csv('train.csv', header=0, sep=',', quotechar='\"')\n",
        "#orig_df_test = pd.read_csv('test.csv', header=0, sep=',', quotechar='\"')\n",
        "\n",
        "print(orig_df_train)\n",
        "#print(orig_df_test.head())"
      ],
      "execution_count": 6,
      "outputs": [
        {
          "output_type": "stream",
          "text": [
            "             ID_code  target    var_0  ...  var_197  var_198  var_199\n",
            "0            train_0       0   8.9255  ...   8.5635  12.7803  -1.0914\n",
            "1            train_1       0  11.5006  ...   8.7889  18.3560   1.9518\n",
            "2            train_2       0   8.6093  ...   8.2675  14.7222   0.3965\n",
            "3            train_3       0  11.0604  ...  10.2922  17.9697  -8.9996\n",
            "4            train_4       0   9.8369  ...   9.5031  17.9974  -8.8104\n",
            "...              ...     ...      ...  ...      ...      ...      ...\n",
            "199995  train_199995       0  11.4880  ...   8.5326  16.6660 -17.8661\n",
            "199996  train_199996       0   4.9149  ...   6.7419  15.9054   0.3388\n",
            "199997  train_199997       0  11.2232  ...   8.7155  13.8329   4.1995\n",
            "199998  train_199998       0   9.7148  ...  10.0342  15.5289 -13.9001\n",
            "199999  train_199999       0  10.8762  ...   8.1857  12.1284   0.1385\n",
            "\n",
            "[200000 rows x 202 columns]\n"
          ],
          "name": "stdout"
        }
      ]
    },
    {
      "cell_type": "code",
      "metadata": {
        "id": "BwrNZsD7MoWp",
        "colab_type": "code",
        "outputId": "118c1223-8bcf-4132-9550-33a06f4cfaf8",
        "colab": {
          "base_uri": "https://localhost:8080/",
          "height": 102
        }
      },
      "source": [
        "print(orig_df_train[\"var_0\"].min())\n",
        "print(orig_df_train[\"var_0\"].max())\n",
        "print(orig_df_train[\"var_0\"].std())\n",
        "print(orig_df_train[\"var_0\"].mean())\n",
        "print(orig_df_train.where(orig_df_train[\"var_0\"]<=8.5).dropna().shape)\n",
        "# print(orig_df_train.where(orig_df_train[\"sex\"]==1).dropna().shape)\n",
        "# print(orig_df_train.where(orig_df_train[\"sex\"]==0).dropna().shape)"
      ],
      "execution_count": 7,
      "outputs": [
        {
          "output_type": "stream",
          "text": [
            "0.4084\n",
            "20.315\n",
            "3.040050870668801\n",
            "10.67991425200015\n",
            "(51035, 202)\n"
          ],
          "name": "stdout"
        }
      ]
    },
    {
      "cell_type": "code",
      "metadata": {
        "id": "YD9vF9Tmu5RI",
        "colab_type": "code",
        "colab": {
          "base_uri": "https://localhost:8080/",
          "height": 102
        },
        "outputId": "e9275cb3-95e3-43cd-ddea-244006d7a696"
      },
      "source": [
        "print(orig_df_train[\"var_1\"].min())\n",
        "print(orig_df_train[\"var_1\"].max())\n",
        "print(orig_df_train[\"var_1\"].std())\n",
        "print(orig_df_train[\"var_1\"].mean())\n",
        "print(orig_df_train.where(orig_df_train[\"var_1\"]<=-3).dropna().shape)"
      ],
      "execution_count": 34,
      "outputs": [
        {
          "output_type": "stream",
          "text": [
            "-15.0434\n",
            "10.3768\n",
            "4.050044189955011\n",
            "-1.6276216894999924\n",
            "(76572, 202)\n"
          ],
          "name": "stdout"
        }
      ]
    },
    {
      "cell_type": "markdown",
      "metadata": {
        "id": "ZayZsFJZIiPY",
        "colab_type": "text"
      },
      "source": [
        "Identifying the target variable and the ID varaiable"
      ]
    },
    {
      "cell_type": "code",
      "metadata": {
        "id": "1vhjoIl8Ih2w",
        "colab_type": "code",
        "colab": {}
      },
      "source": [
        "target_var = \"target\"\n",
        "id_var = \"ID_code\""
      ],
      "execution_count": 0,
      "outputs": []
    },
    {
      "cell_type": "markdown",
      "metadata": {
        "id": "g9WPtCV5qRKw",
        "colab_type": "text"
      },
      "source": [
        "#Detecting Covariate shift in data"
      ]
    },
    {
      "cell_type": "markdown",
      "metadata": {
        "id": "XmlyVVTCqYh5",
        "colab_type": "text"
      },
      "source": [
        "Removing un-important columns (id) and output/target column(price_doc)"
      ]
    },
    {
      "cell_type": "code",
      "metadata": {
        "id": "UZXDkTtHqXIJ",
        "colab_type": "code",
        "colab": {}
      },
      "source": [
        "df_train = orig_df_train.where(orig_df_train[\"var_0\"]>8.5).dropna().drop(columns=[target_var,id_var])\n",
        "df_test = orig_df_train.where(orig_df_train[\"var_0\"]<=8.5).dropna().drop(columns=[target_var,id_var])"
      ],
      "execution_count": 0,
      "outputs": []
    },
    {
      "cell_type": "code",
      "metadata": {
        "id": "sIqcJXfzvLEU",
        "colab_type": "code",
        "colab": {
          "base_uri": "https://localhost:8080/",
          "height": 51
        },
        "outputId": "fde263af-7ce1-4b5c-bc10-8031e26591fa"
      },
      "source": [
        "print(df_train.shape)\n",
        "print(df_test.shape)"
      ],
      "execution_count": 30,
      "outputs": [
        {
          "output_type": "stream",
          "text": [
            "(148965, 200)\n",
            "(51035, 200)\n"
          ],
          "name": "stdout"
        }
      ]
    },
    {
      "cell_type": "code",
      "metadata": {
        "id": "DXF-VHcJ-Vs5",
        "colab_type": "code",
        "outputId": "a3cffac8-ceca-4f2c-c4c2-42da56eb0a9f",
        "colab": {
          "base_uri": "https://localhost:8080/",
          "height": 51
        }
      },
      "source": [
        "print(df_train.shape)\n",
        "print(df_test.shape)"
      ],
      "execution_count": 10,
      "outputs": [
        {
          "output_type": "stream",
          "text": [
            "(148965, 200)\n",
            "(51035, 200)\n"
          ],
          "name": "stdout"
        }
      ]
    },
    {
      "cell_type": "markdown",
      "metadata": {
        "id": "r_y9dZsAqxsU",
        "colab_type": "text"
      },
      "source": [
        "Adding is_test column"
      ]
    },
    {
      "cell_type": "code",
      "metadata": {
        "id": "b7ByPjY5qxDD",
        "colab_type": "code",
        "colab": {}
      },
      "source": [
        "df_train['is_test'] = 0\n",
        "df_test['is_test'] = 1"
      ],
      "execution_count": 0,
      "outputs": []
    },
    {
      "cell_type": "markdown",
      "metadata": {
        "id": "46v6BEyk1XqU",
        "colab_type": "text"
      },
      "source": [
        "combine dataset"
      ]
    },
    {
      "cell_type": "code",
      "metadata": {
        "id": "vvQZ-rKxOf70",
        "colab_type": "code",
        "outputId": "a0dbe6ea-4481-4552-f476-0533c9599ef9",
        "colab": {
          "base_uri": "https://localhost:8080/",
          "height": 34
        }
      },
      "source": [
        "df = pd.concat([df_train, df_test], axis = 0)\n",
        "df.shape"
      ],
      "execution_count": 12,
      "outputs": [
        {
          "output_type": "execute_result",
          "data": {
            "text/plain": [
              "(200000, 201)"
            ]
          },
          "metadata": {
            "tags": []
          },
          "execution_count": 12
        }
      ]
    },
    {
      "cell_type": "markdown",
      "metadata": {
        "id": "rDDzGsnF1Pnz",
        "colab_type": "text"
      },
      "source": [
        "Function to split and clasiify and show roc and auc score"
      ]
    },
    {
      "cell_type": "code",
      "metadata": {
        "id": "68bHuTHIs8q_",
        "colab_type": "code",
        "colab": {}
      },
      "source": [
        "def split_and_classify(df, feature):\n",
        "  #Removing column to classify (TARGET)\n",
        "  X = df.drop(columns=[feature]) \n",
        "  y = df[feature]\n",
        "\n",
        "  X_train, X_test, y_train, y_test = train_test_split(X, y, test_size=0.3, random_state=42, shuffle=True) #Randomising nad splitting before classification\n",
        "  \n",
        "  rfc = RandomForestClassifier()\n",
        "  rfc.fit(X_train, y_train)\n",
        "  y_test_score = rfc.predict_proba(X_test)\n",
        "  skplt.metrics.plot_roc(y_test, y_test_score)\n",
        "  plt.show()\n",
        "  print('AUC score: ', round(roc_auc_score(y_true=y_test, y_score=y_test_score[:,1]), 4))\n",
        "  return X,y;"
      ],
      "execution_count": 0,
      "outputs": []
    },
    {
      "cell_type": "code",
      "metadata": {
        "id": "L3bvlExOwjlE",
        "colab_type": "code",
        "colab": {}
      },
      "source": [
        "def classify_rfc(train_df, test_df, feature):\n",
        "\n",
        "  X_train = train_df.drop(columns=[feature])\n",
        "  y_train = train_df[feature]\n",
        "\n",
        "  X_test = test_df.drop(columns=[feature])\n",
        "  y_test = test_df[feature]\n",
        "  \n",
        "  rfc = RandomForestClassifier()\n",
        "  rfc.fit(X_train, y_train)\n",
        "  y_test_score = rfc.predict_proba(X_test)\n",
        "  skplt.metrics.plot_roc(y_test, y_test_score)\n",
        "  plt.show()\n",
        "  print('AUC score: ', round(roc_auc_score(y_true=y_test, y_score=y_test_score[:,1]), 4))"
      ],
      "execution_count": 0,
      "outputs": []
    },
    {
      "cell_type": "code",
      "metadata": {
        "id": "hBwM8Bc_1PLt",
        "colab_type": "code",
        "outputId": "4491ddc9-a53b-42f5-fdd8-cad511002457",
        "colab": {
          "base_uri": "https://localhost:8080/",
          "height": 346
        }
      },
      "source": [
        "X,y = split_and_classify(df,\"is_test\")"
      ],
      "execution_count": 14,
      "outputs": [
        {
          "output_type": "stream",
          "text": [
            "/usr/local/lib/python3.6/dist-packages/sklearn/utils/deprecation.py:87: FutureWarning: Function plot_roc_curve is deprecated; This will be removed in v0.5.0. Please use scikitplot.metrics.plot_roc instead.\n",
            "  warnings.warn(msg, category=FutureWarning)\n"
          ],
          "name": "stderr"
        },
        {
          "output_type": "display_data",
          "data": {
            "image/png": "[encoded data removed]",
            "text/plain": [
              "<Figure size 432x288 with 1 Axes>"
            ]
          },
          "metadata": {
            "tags": [],
            "needs_background": "light"
          }
        },
        {
          "output_type": "stream",
          "text": [
            "AUC score:  1.0\n"
          ],
          "name": "stdout"
        }
      ]
    },
    {
      "cell_type": "markdown",
      "metadata": {
        "id": "jIpewyQ5uY6x",
        "colab_type": "text"
      },
      "source": [
        "Finding features causing covariate shift"
      ]
    },
    {
      "cell_type": "code",
      "metadata": {
        "id": "UaYX3e1Oza08",
        "colab_type": "code",
        "colab": {}
      },
      "source": [
        "drop_list = []\n",
        "model = RandomForestClassifier(n_estimators = 50, max_depth = 5,min_samples_leaf = 5)\n",
        "for i in X.columns:\n",
        "    score = cross_val_score(model,pd.DataFrame(X[i]),y,cv=2,scoring='roc_auc')\n",
        "    if (np.mean(score) > 0.8):\n",
        "        drop_list.append(i)\n",
        "        print(i,np.mean(score))"
      ],
      "execution_count": 0,
      "outputs": []
    },
    {
      "cell_type": "code",
      "metadata": {
        "id": "DxRK-P4yzgZD",
        "colab_type": "code",
        "colab": {
          "base_uri": "https://localhost:8080/",
          "height": 34
        },
        "outputId": "7f62b9f7-87ce-4820-82d9-206a3f727ef2"
      },
      "source": [
        "print(drop_list)"
      ],
      "execution_count": 16,
      "outputs": [
        {
          "output_type": "stream",
          "text": [
            "['var_0']\n"
          ],
          "name": "stdout"
        }
      ]
    },
    {
      "cell_type": "markdown",
      "metadata": {
        "id": "gSGePn3p1pn9",
        "colab_type": "text"
      },
      "source": [
        "Removing features that cause shift"
      ]
    },
    {
      "cell_type": "code",
      "metadata": {
        "id": "ffsuE0xW1vBq",
        "colab_type": "code",
        "outputId": "18c71a79-09d0-49e4-ecdf-c974931bfee5",
        "colab": {
          "base_uri": "https://localhost:8080/",
          "height": 34
        }
      },
      "source": [
        "df.drop(columns=[\"var_0\"],inplace=True)\n",
        "df.shape"
      ],
      "execution_count": 17,
      "outputs": [
        {
          "output_type": "execute_result",
          "data": {
            "text/plain": [
              "(200000, 200)"
            ]
          },
          "metadata": {
            "tags": []
          },
          "execution_count": 17
        }
      ]
    },
    {
      "cell_type": "code",
      "metadata": {
        "id": "5B0B_AW57gXL",
        "colab_type": "code",
        "colab": {}
      },
      "source": [
        "def histo(df_test, df_train, feature):\n",
        "  print(\"Histogram of dataset on '\",feature,\"'\")\n",
        "  histo = sns.distplot(df_test[[feature]].values.T[0], color=\"blue\", kde=False, label=\"Testing data\")\n",
        "  histo = sns.distplot(df_train[[feature]].values.T[0], color=\"red\", kde=False, label=\"Training data\")\n",
        "  legend = histo.legend()"
      ],
      "execution_count": 0,
      "outputs": []
    },
    {
      "cell_type": "code",
      "metadata": {
        "id": "OzUrpq9V-Zm_",
        "colab_type": "code",
        "colab": {}
      },
      "source": [
        "df_orig = orig_df_train.drop(columns=[target_var,id_var])\n",
        "normalized_test=(df_test-df_orig.min())/(df_orig.max()-df_orig.min())\n",
        "normalized_train=(df_train-df_orig.min())/(df_orig.max()-df_orig.min())"
      ],
      "execution_count": 0,
      "outputs": []
    },
    {
      "cell_type": "code",
      "metadata": {
        "id": "FcZ4iWXWCHn5",
        "colab_type": "code",
        "outputId": "a8fbffbb-7b1a-4d24-ef99-702293b8f1f2",
        "colab": {
          "base_uri": "https://localhost:8080/",
          "height": 282
        }
      },
      "source": [
        "histo(df_test, df_train,\"var_0\")"
      ],
      "execution_count": 20,
      "outputs": [
        {
          "output_type": "stream",
          "text": [
            "Histogram of dataset on ' var_0 '\n"
          ],
          "name": "stdout"
        },
        {
          "output_type": "display_data",
          "data": {
            "image/png": "[encoded data removed]",
            "text/plain": [
              "<Figure size 432x288 with 1 Axes>"
            ]
          },
          "metadata": {
            "tags": [],
            "needs_background": "light"
          }
        }
      ]
    },
    {
      "cell_type": "code",
      "metadata": {
        "id": "RHQGuhT0A3MB",
        "colab_type": "code",
        "outputId": "75ce3dc7-13c7-4b2e-e3ad-dc6269064d1c",
        "colab": {
          "base_uri": "https://localhost:8080/",
          "height": 282
        }
      },
      "source": [
        "histo(normalized_test, normalized_train,\"var_0\")"
      ],
      "execution_count": 21,
      "outputs": [
        {
          "output_type": "stream",
          "text": [
            "Histogram of dataset on ' var_0 '\n"
          ],
          "name": "stdout"
        },
        {
          "output_type": "display_data",
          "data": {
            "image/png": "[encoded data removed]",
            "text/plain": [
              "<Figure size 432x288 with 1 Axes>"
            ]
          },
          "metadata": {
            "tags": [],
            "needs_background": "light"
          }
        }
      ]
    },
    {
      "cell_type": "markdown",
      "metadata": {
        "id": "v0l95OLb167e",
        "colab_type": "text"
      },
      "source": [
        "splitting and classifying with removed features"
      ]
    },
    {
      "cell_type": "code",
      "metadata": {
        "id": "m9nBigXy1_V3",
        "colab_type": "code",
        "outputId": "409374dc-6b79-4fa8-a660-92a1dc1dcc78",
        "colab": {
          "base_uri": "https://localhost:8080/",
          "height": 346
        }
      },
      "source": [
        "unused,unused2 = split_and_classify(df,\"is_test\")"
      ],
      "execution_count": 22,
      "outputs": [
        {
          "output_type": "stream",
          "text": [
            "/usr/local/lib/python3.6/dist-packages/sklearn/utils/deprecation.py:87: FutureWarning: Function plot_roc_curve is deprecated; This will be removed in v0.5.0. Please use scikitplot.metrics.plot_roc instead.\n",
            "  warnings.warn(msg, category=FutureWarning)\n"
          ],
          "name": "stderr"
        },
        {
          "output_type": "display_data",
          "data": {
            "image/png": "[encoded data removed]",
            "text/plain": [
              "<Figure size 432x288 with 1 Axes>"
            ]
          },
          "metadata": {
            "tags": [],
            "needs_background": "light"
          }
        },
        {
          "output_type": "stream",
          "text": [
            "AUC score:  0.4997\n"
          ],
          "name": "stdout"
        }
      ]
    },
    {
      "cell_type": "markdown",
      "metadata": {
        "id": "vSfMtTlpQIf2",
        "colab_type": "text"
      },
      "source": [
        "Trainging orignal dataset on target variable and checking performance without co-variate shift"
      ]
    },
    {
      "cell_type": "code",
      "metadata": {
        "id": "0zHbXZQSGHlz",
        "colab_type": "code",
        "outputId": "f1ee4451-9958-457d-dc34-621331fb3d6f",
        "colab": {
          "base_uri": "https://localhost:8080/",
          "height": 346
        }
      },
      "source": [
        "df_no_covariate = orig_df_train.drop(columns=[id_var,\"var_0\"])\n",
        "unused,unused2 = split_and_classify(df_no_covariate,\"target\")"
      ],
      "execution_count": 23,
      "outputs": [
        {
          "output_type": "stream",
          "text": [
            "/usr/local/lib/python3.6/dist-packages/sklearn/utils/deprecation.py:87: FutureWarning: Function plot_roc_curve is deprecated; This will be removed in v0.5.0. Please use scikitplot.metrics.plot_roc instead.\n",
            "  warnings.warn(msg, category=FutureWarning)\n"
          ],
          "name": "stderr"
        },
        {
          "output_type": "display_data",
          "data": {
            "image/png": "[encoded data removed]",
            "text/plain": [
              "<Figure size 432x288 with 1 Axes>"
            ]
          },
          "metadata": {
            "tags": [],
            "needs_background": "light"
          }
        },
        {
          "output_type": "stream",
          "text": [
            "AUC score:  0.8183\n"
          ],
          "name": "stdout"
        }
      ]
    },
    {
      "cell_type": "code",
      "metadata": {
        "id": "SqMyaex_txQe",
        "colab_type": "code",
        "colab": {
          "base_uri": "https://localhost:8080/",
          "height": 34
        },
        "outputId": "9d47d759-7074-41d8-bdb2-3aa45eebde13"
      },
      "source": [
        "df_no_covariate.shape"
      ],
      "execution_count": 25,
      "outputs": [
        {
          "output_type": "execute_result",
          "data": {
            "text/plain": [
              "(200000, 200)"
            ]
          },
          "metadata": {
            "tags": []
          },
          "execution_count": 25
        }
      ]
    },
    {
      "cell_type": "markdown",
      "metadata": {
        "id": "svl7InwEQQrX",
        "colab_type": "text"
      },
      "source": [
        "# TODO: CHECK PERFORMANCE WITH CO-VARIATE SHIFT"
      ]
    },
    {
      "cell_type": "code",
      "metadata": {
        "id": "kiDR_wXIohgS",
        "colab_type": "code",
        "colab": {
          "base_uri": "https://localhost:8080/",
          "height": 346
        },
        "outputId": "6de7c61c-f5b7-4fa1-a862-a02fe497885f"
      },
      "source": [
        "df_train = orig_df_train.where(orig_df_train[\"var_0\"]>8.5).dropna().drop(columns=[id_var])\n",
        "df_test = orig_df_train.where(orig_df_train[\"var_0\"]<=8.5).dropna().drop(columns=[id_var])\n",
        "classify_rfc(df_train,df_test,\"target\")"
      ],
      "execution_count": 37,
      "outputs": [
        {
          "output_type": "stream",
          "text": [
            "/usr/local/lib/python3.6/dist-packages/sklearn/utils/deprecation.py:87: FutureWarning: Function plot_roc_curve is deprecated; This will be removed in v0.5.0. Please use scikitplot.metrics.plot_roc instead.\n",
            "  warnings.warn(msg, category=FutureWarning)\n"
          ],
          "name": "stderr"
        },
        {
          "output_type": "display_data",
          "data": {
            "image/png": "[encoded data removed]",
            "text/plain": [
              "<Figure size 432x288 with 1 Axes>"
            ]
          },
          "metadata": {
            "tags": [],
            "needs_background": "light"
          }
        },
        {
          "output_type": "stream",
          "text": [
            "AUC score:  0.8126\n"
          ],
          "name": "stdout"
        }
      ]
    }
  ]
}