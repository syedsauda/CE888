{
  "nbformat": 4,
  "nbformat_minor": 0,
  "metadata": {
    "colab": {
      "name": "Assignment1",
      "provenance": [],
      "collapsed_sections": [],
      "machine_shape": "hm",
      "authorship_tag": "ABX9TyNn3aopSmKwtaMqDHvLuxoI",
      "include_colab_link": true
    },
    "kernelspec": {
      "name": "python3",
      "display_name": "Python 3"
    },
    "accelerator": "GPU"
  },
  "cells": [
    {
      "cell_type": "markdown",
      "metadata": {
        "id": "view-in-github",
        "colab_type": "text"
      },
      "source": [
        "<a href=\"https://colab.research.google.com/github/syedsauda/CE888/blob/master/Assignment1/Assignment1.ipynb\" target=\"_parent\"><img src=\"https://colab.research.google.com/assets/colab-badge.svg\" alt=\"Open In Colab\"/></a>"
      ]
    },
    {
      "cell_type": "markdown",
      "metadata": {
        "id": "dgnGgGhQPWln",
        "colab_type": "text"
      },
      "source": [
        "#Kagle downloading datasets"
      ]
    },
    {
      "cell_type": "markdown",
      "metadata": {
        "id": "pfJ-9P0t1g7F",
        "colab_type": "text"
      },
      "source": [
        "Importing Libraries and setting up environment"
      ]
    },
    {
      "cell_type": "code",
      "metadata": {
        "id": "xS5LL2J22o3C",
        "colab_type": "code",
        "colab": {}
      },
      "source": [
        "pip install scikit-plot"
      ],
      "execution_count": 0,
      "outputs": []
    },
    {
      "cell_type": "code",
      "metadata": {
        "id": "ki9sbSzJ1gKq",
        "colab_type": "code",
        "colab": {}
      },
      "source": [
        "import os\n",
        "import pandas as pd\n",
        "import seaborn as sns\n",
        "import scikitplot as skplt\n",
        "import matplotlib.pyplot as plt\n",
        "\n",
        "from sklearn.model_selection import train_test_split\n",
        "from sklearn.metrics import roc_auc_score\n",
        "from sklearn.ensemble import RandomForestClassifier\n",
        "\n",
        "os.environ['KAGGLE_USERNAME'] = \"syedsaud\" # username from the json file\n",
        "os.environ['KAGGLE_KEY'] = \"94b7de5f3cf3cb489eb1ec0d36f07ab6\" # key from the json file"
      ],
      "execution_count": 0,
      "outputs": []
    },
    {
      "cell_type": "markdown",
      "metadata": {
        "id": "OldbJ4_Hcr95",
        "colab_type": "text"
      },
      "source": [
        "\n",
        "\n",
        "---\n",
        "\n",
        "\n",
        "Downloading First Dataset and Renaming files\n",
        "\n",
        "---\n",
        "\n"
      ]
    },
    {
      "cell_type": "code",
      "metadata": {
        "id": "NiQoeKDua_u5",
        "colab_type": "code",
        "outputId": "8449273c-43e4-48b1-e344-f044e3d505c6",
        "colab": {
          "base_uri": "https://localhost:8080/",
          "height": 34
        }
      },
      "source": [
        "!kaggle competitions download -c santander-customer-transaction-prediction #Download DATASET 1\n",
        "!rm sample_submission.csv.zip\n",
        "!rename 's/test.csv.zip/data1_test.csv.zip/' test.csv.zip\n",
        "!rename 's/train.csv.zip/data1_train.csv.zip/' train.csv.zip\n",
        "!ls"
      ],
      "execution_count": 0,
      "outputs": [
        {
          "output_type": "stream",
          "text": [
            "data1_test.csv.zip  data1_train.csv.zip  sample_data\n"
          ],
          "name": "stdout"
        }
      ]
    },
    {
      "cell_type": "markdown",
      "metadata": {
        "id": "ZVMHX46e2EGx",
        "colab_type": "text"
      },
      "source": [
        "\n",
        "\n",
        "---\n",
        "\n",
        "\n",
        "Downloading Second Dataset and Renaming files\n",
        "\n",
        "---\n",
        "\n"
      ]
    },
    {
      "cell_type": "code",
      "metadata": {
        "id": "y99E6eJrAlgf",
        "colab_type": "code",
        "colab": {}
      },
      "source": [
        "!kaggle competitions download -c microsoft-malware-prediction #DATASET 2\n",
        "!rm sample_submission.csv.zip\n",
        "!rename 's/test.csv.zip/data2_test.csv.zip/' test.csv.zip\n",
        "!rename 's/train.csv.zip/data2_train.csv.zip/' train.csv.zip\n",
        "!ls"
      ],
      "execution_count": 0,
      "outputs": []
    },
    {
      "cell_type": "markdown",
      "metadata": {
        "id": "Yt7cyTgXVwuv",
        "colab_type": "text"
      },
      "source": [
        "#Loading datasets into pandas and Inspecting the Data"
      ]
    },
    {
      "cell_type": "markdown",
      "metadata": {
        "id": "IHBVIG6ih7vj",
        "colab_type": "text"
      },
      "source": [
        "---\n",
        "##First Dataset\n",
        "\n",
        "\n",
        "---\n",
        "\n"
      ]
    },
    {
      "cell_type": "code",
      "metadata": {
        "id": "3qLa7ov7XyEf",
        "colab_type": "code",
        "outputId": "9c024a21-9422-4fb5-d251-e59e3eb8d56b",
        "colab": {
          "base_uri": "https://localhost:8080/",
          "height": 493
        }
      },
      "source": [
        "df_train = pd.read_csv('data1_train.csv.zip', compression='zip', header=0, sep=',', quotechar='\"')\n",
        "df_test = pd.read_csv('data1_test.csv.zip', compression='zip', header=0, sep=',', quotechar='\"')\n",
        "print(df_train)\n",
        "print(df_test)"
      ],
      "execution_count": 0,
      "outputs": [
        {
          "output_type": "stream",
          "text": [
            "             ID_code  target    var_0  ...  var_197  var_198  var_199\n",
            "0            train_0       0   8.9255  ...   8.5635  12.7803  -1.0914\n",
            "1            train_1       0  11.5006  ...   8.7889  18.3560   1.9518\n",
            "2            train_2       0   8.6093  ...   8.2675  14.7222   0.3965\n",
            "3            train_3       0  11.0604  ...  10.2922  17.9697  -8.9996\n",
            "4            train_4       0   9.8369  ...   9.5031  17.9974  -8.8104\n",
            "...              ...     ...      ...  ...      ...      ...      ...\n",
            "199995  train_199995       0  11.4880  ...   8.5326  16.6660 -17.8661\n",
            "199996  train_199996       0   4.9149  ...   6.7419  15.9054   0.3388\n",
            "199997  train_199997       0  11.2232  ...   8.7155  13.8329   4.1995\n",
            "199998  train_199998       0   9.7148  ...  10.0342  15.5289 -13.9001\n",
            "199999  train_199999       0  10.8762  ...   8.1857  12.1284   0.1385\n",
            "\n",
            "[200000 rows x 202 columns]\n",
            "            ID_code    var_0    var_1  ...  var_197  var_198  var_199\n",
            "0            test_0  11.0656   7.7798  ...  10.7200  15.4722  -8.7197\n",
            "1            test_1   8.5304   1.2543  ...   9.8714  19.1293 -20.9760\n",
            "2            test_2   5.4827 -10.3581  ...   7.0618  19.8956 -23.1794\n",
            "3            test_3   8.5374  -1.3222  ...   9.2295  13.0168  -4.2108\n",
            "4            test_4  11.7058  -0.1327  ...   7.2882  13.9260  -9.1846\n",
            "...             ...      ...      ...  ...      ...      ...      ...\n",
            "199995  test_199995  13.1678   1.0136  ...   9.1568  18.2102   4.8801\n",
            "199996  test_199996   9.7171  -9.1462  ...   9.1112  18.1740 -20.7689\n",
            "199997  test_199997  11.6360   2.2769  ...   9.1933  11.7905 -22.2762\n",
            "199998  test_199998  13.5745  -0.5134  ...   8.1079   8.7735  -0.2122\n",
            "199999  test_199999  10.4664   1.8070  ...  10.3378  14.3340  -7.7094\n",
            "\n",
            "[200000 rows x 201 columns]\n"
          ],
          "name": "stdout"
        }
      ]
    },
    {
      "cell_type": "markdown",
      "metadata": {
        "id": "8J0mApTR3FZR",
        "colab_type": "text"
      },
      "source": [
        "###Inspecting Dataset1 for Covariate Shift"
      ]
    },
    {
      "cell_type": "markdown",
      "metadata": {
        "id": "UTXM0CRO9UrF",
        "colab_type": "text"
      },
      "source": [
        "---\n",
        "Removing ID_code and target columns and adding is_test column\n",
        "\n",
        "---"
      ]
    },
    {
      "cell_type": "code",
      "metadata": {
        "id": "zTq-_OkC8uHr",
        "colab_type": "code",
        "colab": {}
      },
      "source": [
        "df_train.drop(columns=['ID_code','target'], inplace=True)\n",
        "df_test.drop(columns=['ID_code'], inplace=True)\n",
        "df_train['is_test'] = 0\n",
        "df_test['is_test'] = 1"
      ],
      "execution_count": 0,
      "outputs": []
    },
    {
      "cell_type": "markdown",
      "metadata": {
        "id": "NVKWxuSc-eMz",
        "colab_type": "text"
      },
      "source": [
        "---\n",
        "Using Random Forest Classfier on randomised test and train set. Plotting ROC curve to see if there is covariate shift in data.\n",
        "\n",
        "---"
      ]
    },
    {
      "cell_type": "code",
      "metadata": {
        "id": "LOD1wSl6-KSV",
        "colab_type": "code",
        "outputId": "a56bea71-3e11-4294-f660-734caa52daa2",
        "colab": {
          "base_uri": "https://localhost:8080/",
          "height": 34
        }
      },
      "source": [
        "df = pd.concat([df_train, df_test], axis = 0)\n",
        "X = df.drop(columns=['is_test'])\n",
        "y = df['is_test']\n",
        "\n",
        "X_train, X_test, y_train, y_test = train_test_split(X, y, test_size=0.3, random_state=42, shuffle=True)\n",
        "print('train2 shape:', X_train.shape, 'test2 shape:', X_test.shape)"
      ],
      "execution_count": 0,
      "outputs": [
        {
          "output_type": "stream",
          "text": [
            "train2 shape: (280000, 200) test2 shape: (120000, 200)\n"
          ],
          "name": "stdout"
        }
      ]
    },
    {
      "cell_type": "code",
      "metadata": {
        "id": "JTtIVb4N-0Qj",
        "colab_type": "code",
        "colab": {}
      },
      "source": [
        "rfc = RandomForestClassifier()\n",
        "rfc.fit(X_train, y_train)\n",
        "y_test_score = rfc.predict_proba(X_test)"
      ],
      "execution_count": 0,
      "outputs": []
    },
    {
      "cell_type": "code",
      "metadata": {
        "id": "Rmjnpxaw-4dE",
        "colab_type": "code",
        "colab": {
          "base_uri": "https://localhost:8080/",
          "height": 331
        },
        "outputId": "038d9084-5b29-4555-8e80-7c586dc985d6"
      },
      "source": [
        "skplt.metrics.plot_roc_curve(y_test, y_test_score)\n",
        "plt.show()"
      ],
      "execution_count": 22,
      "outputs": [
        {
          "output_type": "stream",
          "text": [
            "/usr/local/lib/python3.6/dist-packages/sklearn/utils/deprecation.py:87: FutureWarning: Function plot_roc_curve is deprecated; This will be removed in v0.5.0. Please use scikitplot.metrics.plot_roc instead.\n",
            "  warnings.warn(msg, category=FutureWarning)\n"
          ],
          "name": "stderr"
        },
        {
          "output_type": "display_data",
          "data": {
            "image/png": "[encoded data removed]",
            "text/plain": [
              "<Figure size 432x288 with 1 Axes>"
            ]
          },
          "metadata": {
            "tags": []
          }
        }
      ]
    },
    {
      "cell_type": "code",
      "metadata": {
        "id": "g1h3dryB-7CU",
        "colab_type": "code",
        "colab": {
          "base_uri": "https://localhost:8080/",
          "height": 35
        },
        "outputId": "bf56d1af-7c2d-4189-bc23-3c5b1712be8f"
      },
      "source": [
        "print('AUC score: ', round(roc_auc_score(y_true=y_test, y_score=y_test_score[:,1]), 4))"
      ],
      "execution_count": 23,
      "outputs": [
        {
          "output_type": "stream",
          "text": [
            "AUC score:  0.5025\n"
          ],
          "name": "stdout"
        }
      ]
    },
    {
      "cell_type": "markdown",
      "metadata": {
        "id": "iJ4sdi9_ELRW",
        "colab_type": "text"
      },
      "source": [
        "---\n",
        "Plotting Histogram of a feature in both training and testing data\n",
        "\n",
        "---"
      ]
    },
    {
      "cell_type": "code",
      "metadata": {
        "id": "BPFwIszoEO9s",
        "colab_type": "code",
        "outputId": "2ca79185-444a-49ed-8ad0-e6e7fbc22c50",
        "colab": {
          "base_uri": "https://localhost:8080/",
          "height": 282
        }
      },
      "source": [
        "feature = \"var_0\"\n",
        "print(\"Histogram of dataset on '\",feature,\"'\")\n",
        "histo = sns.distplot(df_test[[feature]].values.T[0], color=\"blue\", kde=False, label=\"Testing data\")\n",
        "histo = sns.distplot(df_train[[feature]].values.T[0], color=\"red\", kde=False, label=\"Training data\")\n",
        "legend = histo.legend()\n",
        "\n",
        "# sns_plot = sns.distplot(y, kde=False, rug=True)"
      ],
      "execution_count": 0,
      "outputs": [
        {
          "output_type": "stream",
          "text": [
            "Histogram of dataset on ' var_0 '\n"
          ],
          "name": "stdout"
        },
        {
          "output_type": "display_data",
          "data": {
            "image/png": "[encoded data removed]",
            "text/plain": [
              "<Figure size 432x288 with 1 Axes>"
            ]
          },
          "metadata": {
            "tags": []
          }
        }
      ]
    },
    {
      "cell_type": "markdown",
      "metadata": {
        "id": "4o_oJv9MiOIu",
        "colab_type": "text"
      },
      "source": [
        "---\n",
        "##Second Dataset\n",
        "\n",
        "\n",
        "---\n",
        "\n"
      ]
    },
    {
      "cell_type": "code",
      "metadata": {
        "id": "xB0Zv0ZUf1pY",
        "colab_type": "code",
        "outputId": "73023316-892d-48eb-9e0f-9a9512d3bd2b",
        "colab": {
          "base_uri": "https://localhost:8080/",
          "height": 547
        }
      },
      "source": [
        "df_train = None\n",
        "df_test = None\n",
        "df_train = pd.read_csv('data2_train.csv.zip', compression='zip', header=0, sep=',', quotechar='\"')\n",
        "df_test = pd.read_csv('data2_test.csv.zip', compression='zip', header=0, sep=',', quotechar='\"')\n",
        "print(df_train)\n",
        "print(df_test)"
      ],
      "execution_count": 0,
      "outputs": [
        {
          "output_type": "stream",
          "text": [
            "/usr/local/lib/python3.6/dist-packages/IPython/core/interactiveshell.py:2718: DtypeWarning: Columns (28) have mixed types. Specify dtype option on import or set low_memory=False.\n",
            "  interactivity=interactivity, compiler=compiler, result=result)\n"
          ],
          "name": "stderr"
        },
        {
          "output_type": "stream",
          "text": [
            "                        MachineIdentifier  ... HasDetections\n",
            "0        0000028988387b115f69f31a3bf04f09  ...             0\n",
            "1        000007535c3f730efa9ea0b7ef1bd645  ...             0\n",
            "2        000007905a28d863f6d0d597892cd692  ...             0\n",
            "3        00000b11598a75ea8ba1beea8459149f  ...             1\n",
            "4        000014a5f00daa18e76b81417eeb99fc  ...             1\n",
            "...                                   ...  ...           ...\n",
            "8921478  ffffedfe8fcc46e6d36ab39953589fee  ...             1\n",
            "8921479  ffffef606490b2970873ec0a27ebd24b  ...             0\n",
            "8921480  fffff8a40070d2d8379bb7fa2ed2fa66  ...             1\n",
            "8921481  fffffbbaaf5969ae4b93e7f3f6d7132f  ...             1\n",
            "8921482  ffffff75ba4f33d938ccfdb148b8ea16  ...             0\n",
            "\n",
            "[8921483 rows x 83 columns]\n",
            "                        MachineIdentifier  ... Wdft_RegionIdentifier\n",
            "0        0000010489e3af074adeac69c53e555e  ...                   7.0\n",
            "1        00000176ac758d54827acd545b6315a5  ...                  12.0\n",
            "2        0000019dcefc128c2d4387c1273dae1d  ...                  11.0\n",
            "3        0000055553dc51b1295785415f1a224d  ...                  10.0\n",
            "4        00000574cefffeca83ec8adf9285b2bf  ...                   3.0\n",
            "...                                   ...  ...                   ...\n",
            "7853248  fffff8c0e065c468a2373f7afd5e7674  ...                  10.0\n",
            "7853249  fffff90b27a1248b6fffc7a535bd736c  ...                  11.0\n",
            "7853250  fffffa6a956c17ddbabca53d4ab708ae  ...                   7.0\n",
            "7853251  fffffad7b6c8196ec5cae634406c0d4f  ...                  11.0\n",
            "7853252  fffffbd305a90eb0f93ee4f30a39c736  ...                  10.0\n",
            "\n",
            "[7853253 rows x 82 columns]\n"
          ],
          "name": "stdout"
        }
      ]
    },
    {
      "cell_type": "markdown",
      "metadata": {
        "id": "TQhRr7EjjgB_",
        "colab_type": "text"
      },
      "source": [
        "###Inspecting Dataset2 for Covariate Shift"
      ]
    },
    {
      "cell_type": "code",
      "metadata": {
        "id": "SmQCbch6jkl2",
        "colab_type": "code",
        "outputId": "11ced401-4db4-4315-d8e1-79ed3f161aee",
        "colab": {
          "base_uri": "https://localhost:8080/",
          "height": 282
        }
      },
      "source": [
        "feature = \"Census_OSBuildNumber\"\n",
        "print(\"Histogram of dataset on '\",feature,\"'\")\n",
        "histo = sns.distplot(df_test[[feature]].values.T[0], color=\"blue\", kde=False, label=\"Testing data\")\n",
        "histo = sns.distplot(df_train[[feature]].values.T[0], color=\"red\", kde=False, label=\"Training data\")\n",
        "legend = histo.legend()"
      ],
      "execution_count": 0,
      "outputs": [
        {
          "output_type": "stream",
          "text": [
            "Histogram of dataset on ' Census_OSBuildNumber '\n"
          ],
          "name": "stdout"
        },
        {
          "output_type": "display_data",
          "data": {
            "image/png": "[encoded data removed]",
            "text/plain": [
              "<Figure size 432x288 with 1 Axes>"
            ]
          },
          "metadata": {
            "tags": []
          }
        }
      ]
    },
    {
      "cell_type": "markdown",
      "metadata": {
        "id": "PZOCpTEbci0A",
        "colab_type": "text"
      },
      "source": [
        "Covariate shift in data is noticeable"
      ]
    }
  ]
}