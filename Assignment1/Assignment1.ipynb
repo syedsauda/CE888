{
  "nbformat": 4,
  "nbformat_minor": 0,
  "metadata": {
    "colab": {
      "name": "Assignment1.ipynb",
      "provenance": [],
      "collapsed_sections": [],
      "machine_shape": "hm",
      "authorship_tag": "ABX9TyPsE/C3obEe6Vm+XQrL7FXY",
      "include_colab_link": true
    },
    "kernelspec": {
      "name": "python3",
      "display_name": "Python 3"
    },
    "accelerator": "GPU"
  },
  "cells": [
    {
      "cell_type": "markdown",
      "metadata": {
        "id": "view-in-github",
        "colab_type": "text"
      },
      "source": [
        "<a href=\"https://colab.research.google.com/github/syedsauda/CE888/blob/master/Assignment1/Assignment1.ipynb\" target=\"_parent\"><img src=\"https://colab.research.google.com/assets/colab-badge.svg\" alt=\"Open In Colab\"/></a>"
      ]
    },
    {
      "cell_type": "markdown",
      "metadata": {
        "id": "dgnGgGhQPWln",
        "colab_type": "text"
      },
      "source": [
        "#Kagle downloading datasets"
      ]
    },
    {
      "cell_type": "code",
      "metadata": {
        "id": "D0WOn5HyUeVG",
        "colab_type": "code",
        "colab": {
          "base_uri": "https://localhost:8080/",
          "height": 255
        },
        "outputId": "518c08ac-2b63-4110-9bcd-5bf112854910"
      },
      "source": [
        "import os\n",
        "\n",
        "os.environ['KAGGLE_USERNAME'] = \"syedsaud\" # username from the json file\n",
        "os.environ['KAGGLE_KEY'] = \"94b7de5f3cf3cb489eb1ec0d36f07ab6\" # key from the json file\n",
        "\n",
        "!kaggle competitions download -c santander-customer-transaction-prediction #DATASET 1\n",
        "!kaggle competitions download -c microsoft-malware-prediction              #DATASET 2"
      ],
      "execution_count": 13,
      "outputs": [
        {
          "output_type": "stream",
          "text": [
            "Warning: Looks like you're using an outdated API Version, please consider updating (server 1.5.6 / client 1.5.4)\n",
            "Downloading sample_submission.csv.zip to /content\n",
            "  0% 0.00/462k [00:00<?, ?B/s]\n",
            "100% 462k/462k [00:00<00:00, 70.6MB/s]\n",
            "Downloading test.csv.zip to /content\n",
            " 88% 110M/125M [00:00<00:00, 146MB/s] \n",
            "100% 125M/125M [00:00<00:00, 231MB/s]\n",
            "Downloading train.csv.zip to /content\n",
            " 91% 114M/125M [00:00<00:00, 130MB/s] \n",
            "100% 125M/125M [00:00<00:00, 151MB/s]\n",
            "Warning: Looks like you're using an outdated API Version, please consider updating (server 1.5.6 / client 1.5.4)\n",
            "sample_submission.csv.zip: Skipping, found more recently modified local copy (use --force to force download)\n",
            "test.csv.zip: Skipping, found more recently modified local copy (use --force to force download)\n",
            "train.csv.zip: Skipping, found more recently modified local copy (use --force to force download)\n"
          ],
          "name": "stdout"
        }
      ]
    },
    {
      "cell_type": "markdown",
      "metadata": {
        "id": "OldbJ4_Hcr95",
        "colab_type": "text"
      },
      "source": [
        "\n",
        "\n",
        "---\n",
        "\n",
        "\n",
        "Removing unnecessary files and renaming datasets\n",
        "\n",
        "---\n",
        "\n"
      ]
    },
    {
      "cell_type": "code",
      "metadata": {
        "id": "NiQoeKDua_u5",
        "colab_type": "code",
        "colab": {
          "base_uri": "https://localhost:8080/",
          "height": 51
        },
        "outputId": "acd8fe78-4502-4300-ff7e-a6c8d2d0595a"
      },
      "source": [
        "!rm sample_submission.csv.zip\n",
        "!rename 's/test.csv.zip/data2_test.csv.zip/' test.csv.zip\n",
        "!rename 's/train.csv.zip/data2_train.csv.zip/' train.csv.zip\n",
        "!ls"
      ],
      "execution_count": 12,
      "outputs": [
        {
          "output_type": "stream",
          "text": [
            "data1_test.csv.zip   data2_test.csv.zip\n",
            "data1_train.csv.zip  data2_train.csv.zip\n"
          ],
          "name": "stdout"
        }
      ]
    },
    {
      "cell_type": "markdown",
      "metadata": {
        "id": "Yt7cyTgXVwuv",
        "colab_type": "text"
      },
      "source": [
        "#Loading datasets into pandas "
      ]
    },
    {
      "cell_type": "code",
      "metadata": {
        "id": "DkUAwRHWXlg5",
        "colab_type": "code",
        "colab": {
          "base_uri": "https://localhost:8080/",
          "height": 51
        },
        "outputId": "8b965932-f0b7-4ef9-d242-4522b2af2562"
      },
      "source": [
        "import pandas as pd\n",
        "data1_train = pd.read_csv('data1_train.csv.zip', compression='zip', header=0, sep=',', quotechar='\"')\n",
        "data1_test = pd.read_csv('data1_test.csv.zip', compression='zip', header=0, sep=',', quotechar='\"')\n",
        "\n",
        "data2_train = pd.read_csv('data2_train.csv.zip', compression='zip', header=0, sep=',', quotechar='\"')\n",
        "data2_test = pd.read_csv('data2_test.csv.zip', compression='zip', header=0, sep=',', quotechar='\"')"
      ],
      "execution_count": 17,
      "outputs": [
        {
          "output_type": "stream",
          "text": [
            "/usr/local/lib/python3.6/dist-packages/IPython/core/interactiveshell.py:2718: DtypeWarning: Columns (28) have mixed types. Specify dtype option on import or set low_memory=False.\n",
            "  interactivity=interactivity, compiler=compiler, result=result)\n"
          ],
          "name": "stderr"
        }
      ]
    },
    {
      "cell_type": "markdown",
      "metadata": {
        "id": "IHBVIG6ih7vj",
        "colab_type": "text"
      },
      "source": [
        "---\n",
        "First Dataset\n",
        "\n",
        "\n",
        "---\n",
        "\n"
      ]
    },
    {
      "cell_type": "code",
      "metadata": {
        "id": "3qLa7ov7XyEf",
        "colab_type": "code",
        "colab": {
          "base_uri": "https://localhost:8080/",
          "height": 493
        },
        "outputId": "cb4b2b2a-caae-4dc2-f54e-84c2ce0e82af"
      },
      "source": [
        "print(data1_train)\n",
        "print(data1_test)"
      ],
      "execution_count": 18,
      "outputs": [
        {
          "output_type": "stream",
          "text": [
            "             ID_code  target    var_0  ...  var_197  var_198  var_199\n",
            "0            train_0       0   8.9255  ...   8.5635  12.7803  -1.0914\n",
            "1            train_1       0  11.5006  ...   8.7889  18.3560   1.9518\n",
            "2            train_2       0   8.6093  ...   8.2675  14.7222   0.3965\n",
            "3            train_3       0  11.0604  ...  10.2922  17.9697  -8.9996\n",
            "4            train_4       0   9.8369  ...   9.5031  17.9974  -8.8104\n",
            "...              ...     ...      ...  ...      ...      ...      ...\n",
            "199995  train_199995       0  11.4880  ...   8.5326  16.6660 -17.8661\n",
            "199996  train_199996       0   4.9149  ...   6.7419  15.9054   0.3388\n",
            "199997  train_199997       0  11.2232  ...   8.7155  13.8329   4.1995\n",
            "199998  train_199998       0   9.7148  ...  10.0342  15.5289 -13.9001\n",
            "199999  train_199999       0  10.8762  ...   8.1857  12.1284   0.1385\n",
            "\n",
            "[200000 rows x 202 columns]\n",
            "            ID_code    var_0    var_1  ...  var_197  var_198  var_199\n",
            "0            test_0  11.0656   7.7798  ...  10.7200  15.4722  -8.7197\n",
            "1            test_1   8.5304   1.2543  ...   9.8714  19.1293 -20.9760\n",
            "2            test_2   5.4827 -10.3581  ...   7.0618  19.8956 -23.1794\n",
            "3            test_3   8.5374  -1.3222  ...   9.2295  13.0168  -4.2108\n",
            "4            test_4  11.7058  -0.1327  ...   7.2882  13.9260  -9.1846\n",
            "...             ...      ...      ...  ...      ...      ...      ...\n",
            "199995  test_199995  13.1678   1.0136  ...   9.1568  18.2102   4.8801\n",
            "199996  test_199996   9.7171  -9.1462  ...   9.1112  18.1740 -20.7689\n",
            "199997  test_199997  11.6360   2.2769  ...   9.1933  11.7905 -22.2762\n",
            "199998  test_199998  13.5745  -0.5134  ...   8.1079   8.7735  -0.2122\n",
            "199999  test_199999  10.4664   1.8070  ...  10.3378  14.3340  -7.7094\n",
            "\n",
            "[200000 rows x 201 columns]\n"
          ],
          "name": "stdout"
        }
      ]
    },
    {
      "cell_type": "markdown",
      "metadata": {
        "id": "4o_oJv9MiOIu",
        "colab_type": "text"
      },
      "source": [
        "---\n",
        "Second Dataset\n",
        "\n",
        "\n",
        "---\n",
        "\n"
      ]
    },
    {
      "cell_type": "code",
      "metadata": {
        "id": "xB0Zv0ZUf1pY",
        "colab_type": "code",
        "colab": {
          "base_uri": "https://localhost:8080/",
          "height": 493
        },
        "outputId": "a69e4621-11b6-49a9-d688-d89d321d2a60"
      },
      "source": [
        "print(data2_train)\n",
        "print(data2_test)"
      ],
      "execution_count": 19,
      "outputs": [
        {
          "output_type": "stream",
          "text": [
            "                        MachineIdentifier  ... HasDetections\n",
            "0        0000028988387b115f69f31a3bf04f09  ...             0\n",
            "1        000007535c3f730efa9ea0b7ef1bd645  ...             0\n",
            "2        000007905a28d863f6d0d597892cd692  ...             0\n",
            "3        00000b11598a75ea8ba1beea8459149f  ...             1\n",
            "4        000014a5f00daa18e76b81417eeb99fc  ...             1\n",
            "...                                   ...  ...           ...\n",
            "8921478  ffffedfe8fcc46e6d36ab39953589fee  ...             1\n",
            "8921479  ffffef606490b2970873ec0a27ebd24b  ...             0\n",
            "8921480  fffff8a40070d2d8379bb7fa2ed2fa66  ...             1\n",
            "8921481  fffffbbaaf5969ae4b93e7f3f6d7132f  ...             1\n",
            "8921482  ffffff75ba4f33d938ccfdb148b8ea16  ...             0\n",
            "\n",
            "[8921483 rows x 83 columns]\n",
            "                        MachineIdentifier  ... Wdft_RegionIdentifier\n",
            "0        0000010489e3af074adeac69c53e555e  ...                   7.0\n",
            "1        00000176ac758d54827acd545b6315a5  ...                  12.0\n",
            "2        0000019dcefc128c2d4387c1273dae1d  ...                  11.0\n",
            "3        0000055553dc51b1295785415f1a224d  ...                  10.0\n",
            "4        00000574cefffeca83ec8adf9285b2bf  ...                   3.0\n",
            "...                                   ...  ...                   ...\n",
            "7853248  fffff8c0e065c468a2373f7afd5e7674  ...                  10.0\n",
            "7853249  fffff90b27a1248b6fffc7a535bd736c  ...                  11.0\n",
            "7853250  fffffa6a956c17ddbabca53d4ab708ae  ...                   7.0\n",
            "7853251  fffffad7b6c8196ec5cae634406c0d4f  ...                  11.0\n",
            "7853252  fffffbd305a90eb0f93ee4f30a39c736  ...                  10.0\n",
            "\n",
            "[7853253 rows x 82 columns]\n"
          ],
          "name": "stdout"
        }
      ]
    },
    {
      "cell_type": "markdown",
      "metadata": {
        "id": "NBUbns52jWs3",
        "colab_type": "text"
      },
      "source": [
        "#Inspecting Dataset1"
      ]
    },
    {
      "cell_type": "code",
      "metadata": {
        "id": "jDvXAkPejjI2",
        "colab_type": "code",
        "colab": {}
      },
      "source": [
        ""
      ],
      "execution_count": 0,
      "outputs": []
    },
    {
      "cell_type": "markdown",
      "metadata": {
        "id": "TQhRr7EjjgB_",
        "colab_type": "text"
      },
      "source": [
        "#Inspecting Dataset2"
      ]
    },
    {
      "cell_type": "code",
      "metadata": {
        "id": "SmQCbch6jkl2",
        "colab_type": "code",
        "colab": {}
      },
      "source": [
        ""
      ],
      "execution_count": 0,
      "outputs": []
    }
  ]
}