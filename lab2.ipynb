{
  "nbformat": 4,
  "nbformat_minor": 0,
  "metadata": {
    "accelerator": "GPU",
    "colab": {
      "name": "bootstrap.ipynb",
      "provenance": [],
      "collapsed_sections": [],
      "include_colab_link": true
    },
    "kernelspec": {
      "display_name": "Python 3",
      "language": "python",
      "name": "python3"
    },
    "language_info": {
      "codemirror_mode": {
        "name": "ipython",
        "version": 3
      },
      "file_extension": ".py",
      "mimetype": "text/x-python",
      "name": "python",
      "nbconvert_exporter": "python",
      "pygments_lexer": "ipython3",
      "version": "3.6.5"
    },
    "pycharm": {
      "stem_cell": {
        "cell_type": "raw",
        "metadata": {
          "collapsed": false
        },
        "source": []
      }
    }
  },
  "cells": [
    {
      "cell_type": "markdown",
      "metadata": {
        "id": "view-in-github",
        "colab_type": "text"
      },
      "source": [
        "<a href=\"https://colab.research.google.com/github/syedsauda/CE888/blob/master/lab2.ipynb\" target=\"_parent\"><img src=\"https://colab.research.google.com/assets/colab-badge.svg\" alt=\"Open In Colab\"/></a>"
      ]
    },
    {
      "cell_type": "markdown",
      "metadata": {
        "colab_type": "text",
        "id": "nCi_99yMYIb1"
      },
      "source": [
        "In this notebook you'll create your own bootstrap function following the bootstrap algorithm (check the lecture notes!)"
      ]
    },
    {
      "cell_type": "code",
      "metadata": {
        "colab_type": "code",
        "id": "LY5zujI2YC37",
        "pycharm": {
          "name": "#%%# Imports\n"
        },
        "colab": {}
      },
      "source": [
        "import matplotlib\n",
        "import pandas as pd\n",
        "import seaborn as sns\n",
        "import numpy as np\n",
        "from random import randrange\n"
      ],
      "execution_count": 0,
      "outputs": []
    },
    {
      "cell_type": "code",
      "metadata": {
        "colab_type": "code",
        "id": "Eqkwj4SMY38t",
        "outputId": "7dce5ec2-d0b4-4bf6-f09b-01710800fbde",
        "colab": {
          "base_uri": "https://localhost:8080/",
          "height": 34
        }
      },
      "source": [
        "# Load the data\n",
        "df = pd.read_csv('https://raw.githubusercontent.com/albanda/CE888/master/lab2%20-%20bootstrap/customers.csv')\n",
        "data = df.values.T[1]\n",
        "print(data)\n",
        "#test = np.array([])\n",
        "#test = np.append(test,[1.0])\n",
        "#print(test)\n",
        "#sns.lmplot(df.columns[0], df.columns[1], data=df, fit_reg=False) # Scatterplot"
      ],
      "execution_count": 0,
      "outputs": [
        {
          "output_type": "stream",
          "text": [
            "[ 2.  8. 20. 13.  5.  9. 10.  8. 22. 10.  2.  4.  7.  9.]\n"
          ],
          "name": "stdout"
        }
      ]
    },
    {
      "cell_type": "code",
      "metadata": {
        "colab_type": "code",
        "id": "Gxvc_bScYC4H",
        "pycharm": {
          "name": "#%%\n"
        },
        "colab": {}
      },
      "source": [
        "# Checking the notes from the lecture, create here your own bootstrap function:\n",
        "# 1. Create an array of samples of shape (n_iterations, sample_size)\n",
        "# 2. Calculate and save the mean of the array (this is \"data_mean\" that is returned by the function)\n",
        "# 3. In each iteration:\n",
        "# 3.1 Get the data corresponding to that iteration (new_samples[iteration, :])\n",
        "# 3.2 Calculate the mean of the iteration data and store it\n",
        "# (At this point you should have an array of n_iterations values)\n",
        "# 4. Calculate the lower and upper bounds for a 95% CI (hint: check the percentile function on Numpy)\n",
        "# 5. Return data_mean, and the lower and upper bounds of your interval\n",
        "def boostrap_mean(sample, sample_size, n_iterations):\n",
        "\t# <---INSERT YOUR CODE HERE--->\n",
        "\t\n",
        "\tavgOfRandomSamples = np.array([])\n",
        " \n",
        "\tfor i in range(n_iterations):\n",
        "\t\tsample_holder = np.array([])\n",
        "\t\tfor j in range(sample_size):\n",
        "\t\t\tsample_holder = np.append(sample_holder,[sample[randrange(sample_size)]])\n",
        "\t\tavgOfRandomSamples = np.append(avgOfRandomSamples,[np.mean(sample_holder)])\n",
        "\n",
        "\tavgOfRandomSamples = np.sort(avgOfRandomSamples)\n",
        "\tlower = avgOfRandomSamples[0]\n",
        "\tupper = avgOfRandomSamples[n_iterations-1]\n",
        "\tdata_mean = np.mean(avgOfRandomSamples)\n",
        "\n",
        "\treturn data_mean, lower, upper\n"
      ],
      "execution_count": 0,
      "outputs": []
    },
    {
      "cell_type": "code",
      "metadata": {
        "colab_type": "code",
        "id": "AN7sEOcMYC4P",
        "outputId": "4f343cb5-0015-4d29-d149-51b28398475a",
        "pycharm": {
          "name": "#%%\n"
        },
        "colab": {
          "base_uri": "https://localhost:8080/",
          "height": 386
        }
      },
      "source": [
        "# Call your bootstrap function and plot the results\n",
        "\n",
        "boots = []\n",
        "\n",
        "for i in range(100, 40000, 1000):\n",
        "    boot = boostrap_mean(data, data.shape[0], i)\n",
        "    boots.append([i, boot[0], \"mean\"])\n",
        "    boots.append([i, boot[1], \"lower\"])\n",
        "    boots.append([i, boot[2], \"upper\"])\n",
        "\n",
        "df_boot = pd.DataFrame(boots, columns=['Boostrap Iterations', 'Mean', \"Value\"])\n",
        "sns_plot = sns.lmplot(df_boot.columns[0], df_boot.columns[1], data=df_boot, fit_reg=False, hue=\"Value\")\n",
        "\n",
        "sns_plot.axes[0, 0].set_ylim(0,)\n",
        "sns_plot.axes[0, 0].set_xlim(0, 40000)\n",
        "\n",
        "#sns_plot.savefig(\"bootstrap_confidence.png\", bbox_inches='tight')\n",
        "#sns_plot.savefig(\"bootstrap_confidence.pdf\", bbox_inches='tight')\n"
      ],
      "execution_count": 0,
      "outputs": [
        {
          "output_type": "stream",
          "text": [
            "Wall time: 0 ns\n"
          ],
          "name": "stdout"
        },
        {
          "output_type": "display_data",
          "data": {
            "image/png": "[encoded data removed]",
            "text/plain": [
              "<Figure size 425.125x360 with 1 Axes>"
            ]
          },
          "metadata": {
            "tags": []
          }
        }
      ]
    },
    {
      "cell_type": "markdown",
      "metadata": {
        "colab_type": "text",
        "id": "MjtP4e2_YC4V"
      },
      "source": [
        "\n",
        "Now, modify the bootstrap function so that you can pass your desired confidence interval as a parameter.\n",
        "\n"
      ]
    },
    {
      "cell_type": "code",
      "metadata": {
        "colab_type": "code",
        "id": "3K9j0FuGYhHs",
        "colab": {}
      },
      "source": [
        "def boostrap_mean_ci(sample, sample_size, iterations, ci):\n",
        "\t# <---INSERT YOUR CODE HERE--->\n",
        "\n",
        "\tavgOfRandomSamples = np.array([])\n",
        " \n",
        "\tfor i in range(iterations):\n",
        "\t\tsample_holder = np.array([])\n",
        "\t\tfor j in range(sample_size):\n",
        "\t\t\tsample_holder = np.append(sample_holder,[sample[randrange(sample_size)]])\n",
        "\t\tavgOfRandomSamples = np.append(avgOfRandomSamples,[np.mean(sample_holder)])\n",
        "\t\n",
        "\tclipping = (((100-ci)/100)*iterations)/2\n",
        "\tavgOfRandomSamples = np.sort(avgOfRandomSamples)\n",
        "\tavgOfRandomSamples = avgOfRandomSamples[int(clipping) : -int(clipping)]\n",
        "\n",
        "\tlower = avgOfRandomSamples[0]\n",
        "\tupper = avgOfRandomSamples[avgOfRandomSamples.size-1]\n",
        "\tdata_mean = np.mean(avgOfRandomSamples)\n",
        "\n",
        "\treturn data_mean, lower, upper"
      ],
      "execution_count": 0,
      "outputs": []
    },
    {
      "cell_type": "code",
      "metadata": {
        "colab_type": "code",
        "id": "uDnjq08GYl-C",
        "outputId": "2cfaa3a9-234d-4119-b4db-282189b46f62",
        "colab": {
          "base_uri": "https://localhost:8080/",
          "height": 369
        }
      },
      "source": [
        "\n",
        "boots = []\n",
        "for i in range(100, 30000, 1000):\n",
        "    boot = boostrap_mean_ci(data, data.shape[0], i, 80)\n",
        "    boots.append([i, boot[0], \"mean\"])\n",
        "    boots.append([i, boot[1], \"lower\"])\n",
        "    boots.append([i, boot[2], \"upper\"])\n",
        "\n",
        "df_boot = pd.DataFrame(boots, columns=['Boostrap Iterations', 'Mean', \"Value\"])\n",
        "sns_plot = sns.lmplot(df_boot.columns[0], df_boot.columns[1], data=df_boot, fit_reg=False, hue=\"Value\")\n",
        "\n",
        "sns_plot.axes[0, 0].set_ylim(0,)\n",
        "sns_plot.axes[0, 0].set_xlim(0, 30000)\n",
        "\n",
        "sns_plot.savefig(\"bootstrap_confidence_80.png\", bbox_inches='tight')\n",
        "sns_plot.savefig(\"bootstrap_confidence_80.pdf\", bbox_inches='tight')\n"
      ],
      "execution_count": 0,
      "outputs": [
        {
          "output_type": "display_data",
          "data": {
            "image/png": "[encoded data removed]",
            "text/plain": [
              "<Figure size 425.125x360 with 1 Axes>"
            ]
          },
          "metadata": {
            "tags": []
          }
        }
      ]
    },
    {
      "cell_type": "markdown",
      "metadata": {
        "colab_type": "text",
        "id": "qjNgXW6wdd7r"
      },
      "source": [
        "# Vehicles dataset\n",
        "\n",
        "Now let's work on a different dataset. Load the vehicles.csv file and check the Moodle page for instructions on how to proceed\n"
      ]
    },
    {
      "cell_type": "code",
      "metadata": {
        "colab_type": "code",
        "id": "avWv4ipFdpka",
        "outputId": "449ed715-03aa-4d8e-e285-7a24d4500085",
        "colab": {
          "base_uri": "https://localhost:8080/",
          "height": 986
        }
      },
      "source": [
        "# Load and visualise the vehicles dataset\n",
        "# <---INSERT YOUR CODE HERE--->\n",
        "\n",
        "df = pd.read_csv('https://raw.githubusercontent.com/albanda/CE888/master/lab2%20-%20bootstrap/vehicles.csv')\n",
        "dataCurrent = df.values.T[0]\n",
        "dataNew = df.values.T[1]\n",
        "dataNew = dataNew[~np.isnan(dataNew)] #remove NaN\n",
        "\n",
        "#print(\"\",dataCurrent)\n",
        "#print(dataNew)\n",
        "\n",
        "print(\"   HISTOGRAM COMPARISM OF MPG OF OLD AND NEW FLEET\")\n",
        "df_old = pd.DataFrame(dataCurrent,columns=['Current Fleet MPG'])\n",
        "df_new = pd.DataFrame(dataNew,columns=['New Fleet MPG'])\n",
        "sns.distplot(df_old,bins=20,kde=False,rug=True)\n",
        "sns.distplot(df_new,bins=20,kde=False,rug=True)\n",
        "\n",
        "carIds = np.array(range(len(dataCurrent)))\n",
        "\n",
        "df_old[\"Car ID\"] = carIds\n",
        "df_new[\"Car ID\"] = carIds[:int(len(dataNew))]\n",
        "\n",
        "#print(\"\\nScatter Plot old fleet fuel usage\")\n",
        "sns_plot = sns.lmplot(df_old.columns[1],df_old.columns[0],data = df_old, fit_reg=False)\n",
        "#print(\"\\nScatter Plot new fleet fuel usage\")\n",
        "sns_plot = sns.lmplot(df_new.columns[1],df_new.columns[0],data = df_new, fit_reg=False)\n"
      ],
      "execution_count": 18,
      "outputs": [
        {
          "output_type": "stream",
          "text": [
            "   HISTOGRAM COMPARISM OF MPG OF OLD AND NEW FLEET\n"
          ],
          "name": "stdout"
        },
        {
          "output_type": "display_data",
          "data": {
            "image/png": "[encoded data removed]",
            "text/plain": [
              "<Figure size 432x288 with 1 Axes>"
            ]
          },
          "metadata": {
            "tags": []
          }
        },
        {
          "output_type": "display_data",
          "data": {
            "image/png": "[encoded data removed]",
            "text/plain": [
              "<Figure size 360x360 with 1 Axes>"
            ]
          },
          "metadata": {
            "tags": []
          }
        },
        {
          "output_type": "display_data",
          "data": {
            "image/png": "[encoded data removed]",
            "text/plain": [
              "<Figure size 360x360 with 1 Axes>"
            ]
          },
          "metadata": {
            "tags": []
          }
        }
      ]
    },
    {
      "cell_type": "code",
      "metadata": {
        "colab_type": "code",
        "id": "BAKyj983dwSM",
        "outputId": "8b9091e8-7259-4831-9722-b9dd7b404a1c",
        "colab": {
          "base_uri": "https://localhost:8080/",
          "height": 221
        }
      },
      "source": [
        "# Compare the two fleets.\n",
        "meanOld = np.mean(dataCurrent)\n",
        "meanNew = np.mean(dataNew)\n",
        "\n",
        "print(\"Old Data Mean:       \",meanOld)\n",
        "\n",
        "boot = boostrap_mean_ci(dataCurrent, dataCurrent.shape[0], 1000, 90)\n",
        "print(\"         BS Mean:    \",boot[0])\n",
        "print(\"         Lower Bound:\",boot[1])\n",
        "print(\"         Upper Bound:\",boot[2])\n",
        "\n",
        "print(\"\\nNew Data Mean:       \",meanNew)\n",
        "\n",
        "boot = boostrap_mean_ci(dataNew, dataNew.shape[0], 1000, 90)\n",
        "print(\"         BS Mean:    \",boot[0])\n",
        "print(\"         Lower Bound:\",boot[1])\n",
        "print(\"         Upper Bound:\",boot[2])\n",
        "\n",
        "tObs = meanNew-meanOld\n",
        "print(\"\\nTobs:\", tObs)\n",
        "\n",
        "# You can create a permutation test function to do this. Check the lecture notes!\n",
        "\n",
        "concat = np.concatenate((np.random.choice(dataCurrent,len(dataNew)),dataNew))\n",
        "counter = 0\n",
        "numPermutations = 20000\n",
        "for i in range(numPermutations):\n",
        "    perm = np.random.permutation(concat)\n",
        "    pold = perm[:int(len(perm)/2)]\n",
        "    pnew = perm[int(len(perm)/2):]\n",
        "    \n",
        "    tPerm = np.mean(pnew) - np.mean(pold)\n",
        "    if tPerm>tObs:\n",
        "        counter +=1\n",
        "        print(\"a\")\n",
        "pVal = counter / numPermutations\n",
        "print(\"pVal:\",pVal)"
      ],
      "execution_count": 5,
      "outputs": [
        {
          "output_type": "stream",
          "text": [
            "Old Data Mean:        20.14457831325301\n",
            "         BS Mean:     20.1183453815261\n",
            "         Lower Bound: 19.859437751004016\n",
            "         Upper Bound: 20.3855421686747\n",
            "\n",
            "New Data Mean:        30.481012658227847\n",
            "         BS Mean:     30.479291139240505\n",
            "         Lower Bound: 30.037974683544302\n",
            "         Upper Bound: 30.924050632911392\n",
            "\n",
            "Tobs: 10.336434344974837\n",
            "pVal: 0.0\n"
          ],
          "name": "stdout"
        }
      ]
    },
    {
      "cell_type": "markdown",
      "metadata": {
        "id": "L-2FaNxUmkeN",
        "colab_type": "text"
      },
      "source": [
        "We will never get a higher tPerm value than Tobs so we can conclude that the new data is better."
      ]
    }
  ]
}